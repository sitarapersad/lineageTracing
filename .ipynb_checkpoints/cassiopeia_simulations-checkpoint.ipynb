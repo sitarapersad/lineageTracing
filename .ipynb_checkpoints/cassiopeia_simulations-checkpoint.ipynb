{
 "cells": [
  {
   "cell_type": "code",
   "execution_count": 1,
   "metadata": {},
   "outputs": [
    {
     "name": "stderr",
     "output_type": "stream",
     "text": [
      "/Users/sitarapersad/opt/anaconda3/lib/python3.7/site-packages/statsmodels/tools/_testing.py:19: FutureWarning: pandas.util.testing is deprecated. Use the functions in the public API at pandas.testing instead.\n",
      "  import pandas.util.testing as tm\n"
     ]
    }
   ],
   "source": [
    "import numpy as np\n",
    "import pandas as pd\n",
    "import seaborn as sns\n",
    "sns.set()\n",
    "import matplotlib.pyplot as plt\n",
    "import torch \n",
    "import pickle as pic\n",
    "import networkx as nx\n",
    "import os \n",
    "\n",
    "from tqdm import trange\n",
    "from IPython.display import display\n",
    "\n",
    "from cassiopeia.TreeSolver.Cassiopeia_Tree import Cassiopeia_Tree\n",
    "from cassiopeia.TreeSolver.score_triplets import score_triplets\n",
    "\n",
    "import importlib\n",
    "import hierarchical\n",
    "importlib.reload(hierarchical)\n",
    "from hierarchical import cluster_nx"
   ]
  },
  {
   "cell_type": "code",
   "execution_count": 2,
   "metadata": {},
   "outputs": [],
   "source": [
    "def dict_to_dist(priors):\n",
    "    arr = []\n",
    "    for site in priors:\n",
    "        state = priors[site]\n",
    "        arr.append(list(state.values()))\n",
    "\n",
    "    probs = torch.DoubleTensor(arr)\n",
    "    probs[:, 0]\n",
    "\n",
    "    return torch.distributions.Categorical(probs)"
   ]
  },
  {
   "cell_type": "code",
   "execution_count": 3,
   "metadata": {
    "scrolled": true
   },
   "outputs": [
    {
     "name": "stdout",
     "output_type": "stream",
     "text": [
      "Tree contains 1073 leaves.\n",
      "Computing initial distance matrix\n"
     ]
    },
    {
     "name": "stderr",
     "output_type": "stream",
     "text": [
      "\r",
      "Performing agglomerative clustering:   0%|          | 0/1071 [00:00<?, ?it/s]"
     ]
    },
    {
     "name": "stdout",
     "output_type": "stream",
     "text": [
      "Starting with 1073 nodes\n"
     ]
    },
    {
     "name": "stderr",
     "output_type": "stream",
     "text": [
      "Performing agglomerative clustering: 100%|██████████| 1071/1071 [00:17<00:00, 61.24it/s] \n"
     ]
    },
    {
     "name": "stdout",
     "output_type": "stream",
     "text": [
      "Baseline: 0.8607547082324035\n",
      "Our Score: 0.4962\n",
      "Tree contains 1067 leaves.\n",
      "Computing initial distance matrix\n"
     ]
    },
    {
     "name": "stderr",
     "output_type": "stream",
     "text": [
      "Performing agglomerative clustering:   0%|          | 3/1065 [00:00<00:44, 23.67it/s]"
     ]
    },
    {
     "name": "stdout",
     "output_type": "stream",
     "text": [
      "Starting with 1067 nodes\n"
     ]
    },
    {
     "name": "stderr",
     "output_type": "stream",
     "text": [
      "Performing agglomerative clustering: 100%|██████████| 1065/1065 [00:15<00:00, 69.88it/s]\n"
     ]
    },
    {
     "name": "stdout",
     "output_type": "stream",
     "text": [
      "Baseline: 0.4617412162918205\n"
     ]
    },
    {
     "ename": "KeyboardInterrupt",
     "evalue": "",
     "output_type": "error",
     "traceback": [
      "\u001b[0;31m---------------------------------------------------------------------------\u001b[0m",
      "\u001b[0;31mKeyboardInterrupt\u001b[0m                         Traceback (most recent call last)",
      "\u001b[0;32m<ipython-input-3-a1053f6e84a9>\u001b[0m in \u001b[0;36m<module>\u001b[0;34m\u001b[0m\n\u001b[1;32m     31\u001b[0m         \u001b[0mprint\u001b[0m\u001b[0;34m(\u001b[0m\u001b[0;34m'Baseline:'\u001b[0m\u001b[0;34m,\u001b[0m \u001b[0mscore_triplets\u001b[0m\u001b[0;34m(\u001b[0m\u001b[0mtrue_network\u001b[0m\u001b[0;34m,\u001b[0m \u001b[0mtrue_network\u001b[0m\u001b[0;34m,\u001b[0m \u001b[0mnumber_of_trials\u001b[0m \u001b[0;34m=\u001b[0m \u001b[0;36m5000\u001b[0m\u001b[0;34m,\u001b[0m \u001b[0mmin_size_depth\u001b[0m \u001b[0;34m=\u001b[0m \u001b[0;36m20\u001b[0m\u001b[0;34m)\u001b[0m\u001b[0;34m)\u001b[0m\u001b[0;34m\u001b[0m\u001b[0;34m\u001b[0m\u001b[0m\n\u001b[1;32m     32\u001b[0m \u001b[0;34m\u001b[0m\u001b[0m\n\u001b[0;32m---> 33\u001b[0;31m         \u001b[0mprint\u001b[0m\u001b[0;34m(\u001b[0m\u001b[0;34m'Our Score:'\u001b[0m\u001b[0;34m,\u001b[0m \u001b[0mscore_triplets\u001b[0m\u001b[0;34m(\u001b[0m\u001b[0mtree\u001b[0m\u001b[0;34m,\u001b[0m \u001b[0mtrue_network\u001b[0m\u001b[0;34m,\u001b[0m \u001b[0mnumber_of_trials\u001b[0m \u001b[0;34m=\u001b[0m \u001b[0;36m5000\u001b[0m\u001b[0;34m,\u001b[0m \u001b[0mmin_size_depth\u001b[0m \u001b[0;34m=\u001b[0m \u001b[0;36m20\u001b[0m\u001b[0;34m)\u001b[0m\u001b[0;34m)\u001b[0m\u001b[0;34m\u001b[0m\u001b[0;34m\u001b[0m\u001b[0m\n\u001b[0m\u001b[1;32m     34\u001b[0m \u001b[0;34m\u001b[0m\u001b[0m\n",
      "\u001b[0;32m~/.local/lib/python3.7/site-packages/cassiopeia/TreeSolver/score_triplets.py\u001b[0m in \u001b[0;36mscore_triplets\u001b[0;34m(true_network, reconstructed_network, modified, min_size_depth, number_of_trials, collapse_true_net)\u001b[0m\n\u001b[1;32m     31\u001b[0m \u001b[0;34m\u001b[0m\u001b[0m\n\u001b[1;32m     32\u001b[0m         correct_class, freqs = check_triplets_correct(stree, rtree,\n\u001b[0;32m---> 33\u001b[0;31m                                 number_of_trials=number_of_trials, dict_return=True, collapse_true_net = collapse_true_net)\n\u001b[0m\u001b[1;32m     34\u001b[0m \u001b[0;34m\u001b[0m\u001b[0m\n\u001b[1;32m     35\u001b[0m         \u001b[0mnum_consid\u001b[0m \u001b[0;34m=\u001b[0m \u001b[0;36m0\u001b[0m\u001b[0;34m\u001b[0m\u001b[0;34m\u001b[0m\u001b[0m\n",
      "\u001b[0;32m~/.local/lib/python3.7/site-packages/cassiopeia/TreeSolver/simulation_tools/validation.py\u001b[0m in \u001b[0;36mcheck_triplets_correct\u001b[0;34m(simulated_tree, reconstructed_tree, number_of_trials, dict_return, collapse_true_net)\u001b[0m\n\u001b[1;32m     49\u001b[0m                 \u001b[0mtrue_common\u001b[0m\u001b[0;34m,\u001b[0m \u001b[0mindex\u001b[0m \u001b[0;34m=\u001b[0m \u001b[0mstree\u001b[0m\u001b[0;34m.\u001b[0m\u001b[0mfind_triplet_structure\u001b[0m\u001b[0;34m(\u001b[0m\u001b[0mtriplet\u001b[0m\u001b[0;34m)\u001b[0m\u001b[0;34m\u001b[0m\u001b[0;34m\u001b[0m\u001b[0m\n\u001b[1;32m     50\u001b[0m \u001b[0;34m\u001b[0m\u001b[0m\n\u001b[0;32m---> 51\u001b[0;31m                 \u001b[0mtrue_common_2\u001b[0m\u001b[0;34m,\u001b[0m \u001b[0mindex2\u001b[0m \u001b[0;34m=\u001b[0m \u001b[0mreconstructed_tree\u001b[0m\u001b[0;34m.\u001b[0m\u001b[0mfind_triplet_structure\u001b[0m\u001b[0;34m(\u001b[0m\u001b[0mtriplet\u001b[0m\u001b[0;34m)\u001b[0m\u001b[0;34m\u001b[0m\u001b[0;34m\u001b[0m\u001b[0m\n\u001b[0m\u001b[1;32m     52\u001b[0m \u001b[0;34m\u001b[0m\u001b[0m\n\u001b[1;32m     53\u001b[0m                 \u001b[0mcorrect_classifications\u001b[0m\u001b[0;34m[\u001b[0m\u001b[0mindex\u001b[0m\u001b[0;34m]\u001b[0m \u001b[0;34m+=\u001b[0m \u001b[0;34m(\u001b[0m\u001b[0mtrue_common\u001b[0m \u001b[0;34m==\u001b[0m \u001b[0mtrue_common_2\u001b[0m\u001b[0;34m)\u001b[0m\u001b[0;34m\u001b[0m\u001b[0;34m\u001b[0m\u001b[0m\n",
      "\u001b[0;32m~/.local/lib/python3.7/site-packages/cassiopeia/TreeSolver/Cassiopeia_Tree.py\u001b[0m in \u001b[0;36mfind_triplet_structure\u001b[0;34m(self, triplet)\u001b[0m\n\u001b[1;32m    299\u001b[0m                 \u001b[0ma\u001b[0m\u001b[0;34m,\u001b[0m \u001b[0mb\u001b[0m\u001b[0;34m,\u001b[0m \u001b[0mc\u001b[0m \u001b[0;34m=\u001b[0m \u001b[0;32mNone\u001b[0m\u001b[0;34m,\u001b[0m \u001b[0;32mNone\u001b[0m\u001b[0;34m,\u001b[0m \u001b[0;32mNone\u001b[0m\u001b[0;34m\u001b[0m\u001b[0;34m\u001b[0m\u001b[0m\n\u001b[1;32m    300\u001b[0m \u001b[0;34m\u001b[0m\u001b[0m\n\u001b[0;32m--> 301\u001b[0;31m                 \u001b[0;32mfor\u001b[0m \u001b[0mn\u001b[0m \u001b[0;32min\u001b[0m \u001b[0mself\u001b[0m\u001b[0;34m.\u001b[0m\u001b[0mnetwork\u001b[0m\u001b[0;34m.\u001b[0m\u001b[0mnodes\u001b[0m\u001b[0;34m:\u001b[0m\u001b[0;34m\u001b[0m\u001b[0;34m\u001b[0m\u001b[0m\n\u001b[0m\u001b[1;32m    302\u001b[0m                         \u001b[0;32mif\u001b[0m \u001b[0mn\u001b[0m\u001b[0;34m.\u001b[0m\u001b[0mchar_string\u001b[0m \u001b[0;34m==\u001b[0m \u001b[0mtriplet\u001b[0m\u001b[0;34m[\u001b[0m\u001b[0;36m0\u001b[0m\u001b[0;34m]\u001b[0m\u001b[0;34m.\u001b[0m\u001b[0mchar_string\u001b[0m\u001b[0;34m:\u001b[0m\u001b[0;34m\u001b[0m\u001b[0;34m\u001b[0m\u001b[0m\n\u001b[1;32m    303\u001b[0m                                 \u001b[0ma\u001b[0m \u001b[0;34m=\u001b[0m \u001b[0mn\u001b[0m\u001b[0;34m\u001b[0m\u001b[0;34m\u001b[0m\u001b[0m\n",
      "\u001b[0;31mKeyboardInterrupt\u001b[0m: "
     ]
    }
   ],
   "source": [
    "graphs_400 = []\n",
    "priors_400 = []\n",
    "directory = '/Users/sitarapersad/benchmark_networks/400_samples/characters/trees/' \n",
    "priors_dir = '/'.join(directory.split('/')[:-2])+'/priors/'\n",
    "for f in os.listdir(directory):\n",
    "    if f.endswith(\".pkl\"):\n",
    "        true_network = nx.read_gpickle(directory+f)\n",
    "        priors = nx.read_gpickle(priors_dir+f[:-4]+'_priors.pkl')\n",
    "        priors = dict_to_dist(priors)\n",
    "        \n",
    "        G = true_network\n",
    "        graphs_400.append(G)\n",
    "        priors_400.append(priors)\n",
    "        \n",
    "        \n",
    "        leaves = [x for x in G.nodes() if G.out_degree(x)==0]\n",
    "        \n",
    "        print('Tree contains {0} leaves.'.format(len(leaves)))\n",
    "        \n",
    "        character_matrix = pd.DataFrame([x.char_vec for x in leaves]).replace('-', np.nan).astype(np.float64)\n",
    "    \n",
    "        names = [x.name for x in leaves]\n",
    "        character_matrix.index = names \n",
    "\n",
    "        tree, steps = cluster_nx(character_matrix, priors)\n",
    "\n",
    "        our_tree = Cassiopeia_Tree(method ='simulated', network = tree)\n",
    "        true_tree = Cassiopeia_Tree(method ='simulated', network = true_network)\n",
    "\n",
    "        # # Why is the score_triplets not 1??\n",
    "        print('Baseline:', score_triplets(true_network, true_network, number_of_trials = 5000, min_size_depth = 20))\n",
    "\n",
    "        print('Our Score:', score_triplets(tree, true_network, number_of_trials = 5000, min_size_depth = 20))\n",
    "\n",
    "        print('Cassiopeia Score:', score_triplets(tree, true_network, number_of_trials = 5000, min_size_depth = 20))\n",
    "\n",
    "        \n"
   ]
  },
  {
   "cell_type": "code",
   "execution_count": 60,
   "metadata": {},
   "outputs": [
    {
     "data": {
      "text/plain": [
       "[<Cassiopeia.TreeSolver.Node.Node at 0x1a95d70ad0>]"
      ]
     },
     "execution_count": 60,
     "metadata": {},
     "output_type": "execute_result"
    }
   ],
   "source": [
    "[x for x in tree if tree.in_degree(x)==0]"
   ]
  },
  {
   "cell_type": "code",
   "execution_count": 55,
   "metadata": {},
   "outputs": [
    {
     "name": "stderr",
     "output_type": "stream",
     "text": [
      "\n",
      "\n",
      "\n",
      "\n",
      "Comparing trees ...:   0%|          | 0/300 [00:00<?, ?it/s]\u001b[A\u001b[A\u001b[A\u001b[A"
     ]
    },
    {
     "name": "stdout",
     "output_type": "stream",
     "text": [
      "Computing initial distance matrix\n"
     ]
    },
    {
     "ename": "RuntimeError",
     "evalue": "The size of tensor a (50) must match the size of tensor b (60) at non-singleton dimension 0",
     "output_type": "error",
     "traceback": [
      "\u001b[0;31m---------------------------------------------------------------------------\u001b[0m",
      "\u001b[0;31mRuntimeError\u001b[0m                              Traceback (most recent call last)",
      "\u001b[0;32m<ipython-input-55-71c7eacca834>\u001b[0m in \u001b[0;36m<module>\u001b[0;34m\u001b[0m\n\u001b[1;32m     15\u001b[0m     \u001b[0mcharacter_matrix\u001b[0m\u001b[0;34m.\u001b[0m\u001b[0mindex\u001b[0m \u001b[0;34m=\u001b[0m \u001b[0mnames\u001b[0m\u001b[0;34m\u001b[0m\u001b[0;34m\u001b[0m\u001b[0m\n\u001b[1;32m     16\u001b[0m \u001b[0;34m\u001b[0m\u001b[0m\n\u001b[0;32m---> 17\u001b[0;31m     \u001b[0mtree\u001b[0m\u001b[0;34m,\u001b[0m \u001b[0msteps\u001b[0m \u001b[0;34m=\u001b[0m \u001b[0mcluster_nx\u001b[0m\u001b[0;34m(\u001b[0m\u001b[0mcharacter_matrix\u001b[0m\u001b[0;34m,\u001b[0m \u001b[0mpriors\u001b[0m\u001b[0;34m)\u001b[0m\u001b[0;34m\u001b[0m\u001b[0;34m\u001b[0m\u001b[0m\n\u001b[0m\u001b[1;32m     18\u001b[0m \u001b[0;34m\u001b[0m\u001b[0m\n\u001b[1;32m     19\u001b[0m     \u001b[0mour_tree\u001b[0m \u001b[0;34m=\u001b[0m \u001b[0mCassiopeia_Tree\u001b[0m\u001b[0;34m(\u001b[0m\u001b[0mmethod\u001b[0m \u001b[0;34m=\u001b[0m\u001b[0;34m'simulated'\u001b[0m\u001b[0;34m,\u001b[0m \u001b[0mnetwork\u001b[0m \u001b[0;34m=\u001b[0m \u001b[0mtree\u001b[0m\u001b[0;34m)\u001b[0m\u001b[0;34m\u001b[0m\u001b[0;34m\u001b[0m\u001b[0m\n",
      "\u001b[0;32m~/lineageTracing/hierarchical.py\u001b[0m in \u001b[0;36mcluster_nx\u001b[0;34m(character_matrix, probs, names)\u001b[0m\n\u001b[1;32m    150\u001b[0m     \u001b[0mprint\u001b[0m\u001b[0;34m(\u001b[0m\u001b[0;34m'Computing initial distance matrix'\u001b[0m\u001b[0;34m)\u001b[0m\u001b[0;34m\u001b[0m\u001b[0;34m\u001b[0m\u001b[0m\n\u001b[1;32m    151\u001b[0m     \u001b[0;31m# Compute the distance matrix\u001b[0m\u001b[0;34m\u001b[0m\u001b[0;34m\u001b[0m\u001b[0;34m\u001b[0m\u001b[0m\n\u001b[0;32m--> 152\u001b[0;31m     \u001b[0mD\u001b[0m \u001b[0;34m=\u001b[0m \u001b[0msquareform\u001b[0m\u001b[0;34m(\u001b[0m\u001b[0mpdist\u001b[0m\u001b[0;34m(\u001b[0m\u001b[0mcharacter_matrix\u001b[0m\u001b[0;34m,\u001b[0m \u001b[0;32mlambda\u001b[0m \u001b[0mu\u001b[0m\u001b[0;34m,\u001b[0m\u001b[0mv\u001b[0m\u001b[0;34m:\u001b[0m \u001b[0mavg_markov_distance\u001b[0m\u001b[0;34m(\u001b[0m\u001b[0mu\u001b[0m\u001b[0;34m,\u001b[0m\u001b[0mv\u001b[0m\u001b[0;34m,\u001b[0m\u001b[0mprobs\u001b[0m\u001b[0;34m)\u001b[0m\u001b[0;34m)\u001b[0m\u001b[0;34m)\u001b[0m\u001b[0;34m\u001b[0m\u001b[0;34m\u001b[0m\u001b[0m\n\u001b[0m\u001b[1;32m    153\u001b[0m \u001b[0;34m\u001b[0m\u001b[0m\n\u001b[1;32m    154\u001b[0m     \u001b[0mtree\u001b[0m \u001b[0;34m=\u001b[0m \u001b[0mnx\u001b[0m\u001b[0;34m.\u001b[0m\u001b[0mDiGraph\u001b[0m\u001b[0;34m(\u001b[0m\u001b[0;34m)\u001b[0m\u001b[0;34m\u001b[0m\u001b[0;34m\u001b[0m\u001b[0m\n",
      "\u001b[0;32m~/opt/anaconda3/lib/python3.7/site-packages/scipy/spatial/distance.py\u001b[0m in \u001b[0;36mpdist\u001b[0;34m(X, metric, *args, **kwargs)\u001b[0m\n\u001b[1;32m   2047\u001b[0m         \u001b[0;32mfor\u001b[0m \u001b[0mi\u001b[0m \u001b[0;32min\u001b[0m \u001b[0mxrange\u001b[0m\u001b[0;34m(\u001b[0m\u001b[0;36m0\u001b[0m\u001b[0;34m,\u001b[0m \u001b[0mm\u001b[0m \u001b[0;34m-\u001b[0m \u001b[0;36m1\u001b[0m\u001b[0;34m)\u001b[0m\u001b[0;34m:\u001b[0m\u001b[0;34m\u001b[0m\u001b[0;34m\u001b[0m\u001b[0m\n\u001b[1;32m   2048\u001b[0m             \u001b[0;32mfor\u001b[0m \u001b[0mj\u001b[0m \u001b[0;32min\u001b[0m \u001b[0mxrange\u001b[0m\u001b[0;34m(\u001b[0m\u001b[0mi\u001b[0m \u001b[0;34m+\u001b[0m \u001b[0;36m1\u001b[0m\u001b[0;34m,\u001b[0m \u001b[0mm\u001b[0m\u001b[0;34m)\u001b[0m\u001b[0;34m:\u001b[0m\u001b[0;34m\u001b[0m\u001b[0;34m\u001b[0m\u001b[0m\n\u001b[0;32m-> 2049\u001b[0;31m                 \u001b[0mdm\u001b[0m\u001b[0;34m[\u001b[0m\u001b[0mk\u001b[0m\u001b[0;34m]\u001b[0m \u001b[0;34m=\u001b[0m \u001b[0mmetric\u001b[0m\u001b[0;34m(\u001b[0m\u001b[0mX\u001b[0m\u001b[0;34m[\u001b[0m\u001b[0mi\u001b[0m\u001b[0;34m]\u001b[0m\u001b[0;34m,\u001b[0m \u001b[0mX\u001b[0m\u001b[0;34m[\u001b[0m\u001b[0mj\u001b[0m\u001b[0;34m]\u001b[0m\u001b[0;34m,\u001b[0m \u001b[0;34m**\u001b[0m\u001b[0mkwargs\u001b[0m\u001b[0;34m)\u001b[0m\u001b[0;34m\u001b[0m\u001b[0;34m\u001b[0m\u001b[0m\n\u001b[0m\u001b[1;32m   2050\u001b[0m                 \u001b[0mk\u001b[0m \u001b[0;34m=\u001b[0m \u001b[0mk\u001b[0m \u001b[0;34m+\u001b[0m \u001b[0;36m1\u001b[0m\u001b[0;34m\u001b[0m\u001b[0;34m\u001b[0m\u001b[0m\n\u001b[1;32m   2051\u001b[0m \u001b[0;34m\u001b[0m\u001b[0m\n",
      "\u001b[0;32m~/lineageTracing/hierarchical.py\u001b[0m in \u001b[0;36m<lambda>\u001b[0;34m(u, v)\u001b[0m\n\u001b[1;32m    150\u001b[0m     \u001b[0mprint\u001b[0m\u001b[0;34m(\u001b[0m\u001b[0;34m'Computing initial distance matrix'\u001b[0m\u001b[0;34m)\u001b[0m\u001b[0;34m\u001b[0m\u001b[0;34m\u001b[0m\u001b[0m\n\u001b[1;32m    151\u001b[0m     \u001b[0;31m# Compute the distance matrix\u001b[0m\u001b[0;34m\u001b[0m\u001b[0;34m\u001b[0m\u001b[0;34m\u001b[0m\u001b[0m\n\u001b[0;32m--> 152\u001b[0;31m     \u001b[0mD\u001b[0m \u001b[0;34m=\u001b[0m \u001b[0msquareform\u001b[0m\u001b[0;34m(\u001b[0m\u001b[0mpdist\u001b[0m\u001b[0;34m(\u001b[0m\u001b[0mcharacter_matrix\u001b[0m\u001b[0;34m,\u001b[0m \u001b[0;32mlambda\u001b[0m \u001b[0mu\u001b[0m\u001b[0;34m,\u001b[0m\u001b[0mv\u001b[0m\u001b[0;34m:\u001b[0m \u001b[0mavg_markov_distance\u001b[0m\u001b[0;34m(\u001b[0m\u001b[0mu\u001b[0m\u001b[0;34m,\u001b[0m\u001b[0mv\u001b[0m\u001b[0;34m,\u001b[0m\u001b[0mprobs\u001b[0m\u001b[0;34m)\u001b[0m\u001b[0;34m)\u001b[0m\u001b[0;34m)\u001b[0m\u001b[0;34m\u001b[0m\u001b[0;34m\u001b[0m\u001b[0m\n\u001b[0m\u001b[1;32m    153\u001b[0m \u001b[0;34m\u001b[0m\u001b[0m\n\u001b[1;32m    154\u001b[0m     \u001b[0mtree\u001b[0m \u001b[0;34m=\u001b[0m \u001b[0mnx\u001b[0m\u001b[0;34m.\u001b[0m\u001b[0mDiGraph\u001b[0m\u001b[0;34m(\u001b[0m\u001b[0;34m)\u001b[0m\u001b[0;34m\u001b[0m\u001b[0;34m\u001b[0m\u001b[0m\n",
      "\u001b[0;32m~/lineageTracing/hierarchical.py\u001b[0m in \u001b[0;36mavg_markov_distance\u001b[0;34m(x, y, probs)\u001b[0m\n\u001b[1;32m     60\u001b[0m \u001b[0;34m\u001b[0m\u001b[0m\n\u001b[1;32m     61\u001b[0m     \u001b[0;31m# Compute log-prob of mutations in x,y\u001b[0m\u001b[0;34m\u001b[0m\u001b[0;34m\u001b[0m\u001b[0;34m\u001b[0m\u001b[0m\n\u001b[0;32m---> 62\u001b[0;31m     \u001b[0mx_prob\u001b[0m \u001b[0;34m=\u001b[0m \u001b[0;34m-\u001b[0m\u001b[0mprobs\u001b[0m\u001b[0;34m.\u001b[0m\u001b[0mlog_prob\u001b[0m\u001b[0;34m(\u001b[0m\u001b[0mtorch\u001b[0m\u001b[0;34m.\u001b[0m\u001b[0mDoubleTensor\u001b[0m\u001b[0;34m(\u001b[0m\u001b[0mx\u001b[0m\u001b[0;34m)\u001b[0m\u001b[0;34m)\u001b[0m\u001b[0;34m.\u001b[0m\u001b[0mnumpy\u001b[0m\u001b[0;34m(\u001b[0m\u001b[0;34m)\u001b[0m\u001b[0;34m\u001b[0m\u001b[0;34m\u001b[0m\u001b[0m\n\u001b[0m\u001b[1;32m     63\u001b[0m     \u001b[0my_prob\u001b[0m \u001b[0;34m=\u001b[0m \u001b[0;34m-\u001b[0m\u001b[0mprobs\u001b[0m\u001b[0;34m.\u001b[0m\u001b[0mlog_prob\u001b[0m\u001b[0;34m(\u001b[0m\u001b[0mtorch\u001b[0m\u001b[0;34m.\u001b[0m\u001b[0mDoubleTensor\u001b[0m\u001b[0;34m(\u001b[0m\u001b[0my\u001b[0m\u001b[0;34m)\u001b[0m\u001b[0;34m)\u001b[0m\u001b[0;34m.\u001b[0m\u001b[0mnumpy\u001b[0m\u001b[0;34m(\u001b[0m\u001b[0;34m)\u001b[0m\u001b[0;34m\u001b[0m\u001b[0;34m\u001b[0m\u001b[0m\n\u001b[1;32m     64\u001b[0m \u001b[0;34m\u001b[0m\u001b[0m\n",
      "\u001b[0;32m~/opt/anaconda3/lib/python3.7/site-packages/torch/distributions/categorical.py\u001b[0m in \u001b[0;36mlog_prob\u001b[0;34m(self, value)\u001b[0m\n\u001b[1;32m    112\u001b[0m             \u001b[0mself\u001b[0m\u001b[0;34m.\u001b[0m\u001b[0m_validate_sample\u001b[0m\u001b[0;34m(\u001b[0m\u001b[0mvalue\u001b[0m\u001b[0;34m)\u001b[0m\u001b[0;34m\u001b[0m\u001b[0;34m\u001b[0m\u001b[0m\n\u001b[1;32m    113\u001b[0m         \u001b[0mvalue\u001b[0m \u001b[0;34m=\u001b[0m \u001b[0mvalue\u001b[0m\u001b[0;34m.\u001b[0m\u001b[0mlong\u001b[0m\u001b[0;34m(\u001b[0m\u001b[0;34m)\u001b[0m\u001b[0;34m.\u001b[0m\u001b[0munsqueeze\u001b[0m\u001b[0;34m(\u001b[0m\u001b[0;34m-\u001b[0m\u001b[0;36m1\u001b[0m\u001b[0;34m)\u001b[0m\u001b[0;34m\u001b[0m\u001b[0;34m\u001b[0m\u001b[0m\n\u001b[0;32m--> 114\u001b[0;31m         \u001b[0mvalue\u001b[0m\u001b[0;34m,\u001b[0m \u001b[0mlog_pmf\u001b[0m \u001b[0;34m=\u001b[0m \u001b[0mtorch\u001b[0m\u001b[0;34m.\u001b[0m\u001b[0mbroadcast_tensors\u001b[0m\u001b[0;34m(\u001b[0m\u001b[0mvalue\u001b[0m\u001b[0;34m,\u001b[0m \u001b[0mself\u001b[0m\u001b[0;34m.\u001b[0m\u001b[0mlogits\u001b[0m\u001b[0;34m)\u001b[0m\u001b[0;34m\u001b[0m\u001b[0;34m\u001b[0m\u001b[0m\n\u001b[0m\u001b[1;32m    115\u001b[0m         \u001b[0mvalue\u001b[0m \u001b[0;34m=\u001b[0m \u001b[0mvalue\u001b[0m\u001b[0;34m[\u001b[0m\u001b[0;34m...\u001b[0m\u001b[0;34m,\u001b[0m \u001b[0;34m:\u001b[0m\u001b[0;36m1\u001b[0m\u001b[0;34m]\u001b[0m\u001b[0;34m\u001b[0m\u001b[0;34m\u001b[0m\u001b[0m\n\u001b[1;32m    116\u001b[0m         \u001b[0;32mreturn\u001b[0m \u001b[0mlog_pmf\u001b[0m\u001b[0;34m.\u001b[0m\u001b[0mgather\u001b[0m\u001b[0;34m(\u001b[0m\u001b[0;34m-\u001b[0m\u001b[0;36m1\u001b[0m\u001b[0;34m,\u001b[0m \u001b[0mvalue\u001b[0m\u001b[0;34m)\u001b[0m\u001b[0;34m.\u001b[0m\u001b[0msqueeze\u001b[0m\u001b[0;34m(\u001b[0m\u001b[0;34m-\u001b[0m\u001b[0;36m1\u001b[0m\u001b[0;34m)\u001b[0m\u001b[0;34m\u001b[0m\u001b[0;34m\u001b[0m\u001b[0m\n",
      "\u001b[0;32m~/opt/anaconda3/lib/python3.7/site-packages/torch/functional.py\u001b[0m in \u001b[0;36mbroadcast_tensors\u001b[0;34m(*tensors)\u001b[0m\n\u001b[1;32m     50\u001b[0m                 [0, 1, 2]])\n\u001b[1;32m     51\u001b[0m     \"\"\"\n\u001b[0;32m---> 52\u001b[0;31m     \u001b[0;32mreturn\u001b[0m \u001b[0mtorch\u001b[0m\u001b[0;34m.\u001b[0m\u001b[0m_C\u001b[0m\u001b[0;34m.\u001b[0m\u001b[0m_VariableFunctions\u001b[0m\u001b[0;34m.\u001b[0m\u001b[0mbroadcast_tensors\u001b[0m\u001b[0;34m(\u001b[0m\u001b[0mtensors\u001b[0m\u001b[0;34m)\u001b[0m\u001b[0;34m\u001b[0m\u001b[0;34m\u001b[0m\u001b[0m\n\u001b[0m\u001b[1;32m     53\u001b[0m \u001b[0;34m\u001b[0m\u001b[0m\n\u001b[1;32m     54\u001b[0m \u001b[0;34m\u001b[0m\u001b[0m\n",
      "\u001b[0;31mRuntimeError\u001b[0m: The size of tensor a (50) must match the size of tensor b (60) at non-singleton dimension 0"
     ]
    }
   ],
   "source": [
    "t = trange(len(graphs_400), desc='Comparing trees ...')\n",
    "for i in t:\n",
    "    priors = priors_400[i]\n",
    "    true_network = graphs_400[i]\n",
    "  \n",
    "    leaves = [x for x in G.nodes() if G.out_degree(x)==0]   \n"
   ]
  },
  {
   "cell_type": "code",
   "execution_count": 52,
   "metadata": {},
   "outputs": [
    {
     "name": "stdout",
     "output_type": "stream",
     "text": [
      "Baseline: 0.8229330621907148\n",
      "Our Score: 0.5078\n"
     ]
    }
   ],
   "source": [
    "# look at yosef real data, missing at realistic \n",
    " picasso more work than worth \n",
    "    \n",
    "\n",
    "celltagging from jose as well \n",
    "\n",
    "do cells exit senescence Why does recurrence take long unless senescence occurred (rather than not affected by the treatment)\n",
    "\n",
    "Is there heterogeneity among senescent cells \n",
    "Is the a subtype that can exit?\n",
    "\n",
    "Defined by gene markers that are senescent... "
   ]
  },
  {
   "cell_type": "code",
   "execution_count": null,
   "metadata": {},
   "outputs": [],
   "source": [
    "todo:\n",
    "    3. Compare our results with Cassiopeia simulations (by 2:30pm) \n",
    "    4. Compare our results with greedy approach on Cassiopeia simulations \n",
    "    "
   ]
  },
  {
   "cell_type": "code",
   "execution_count": 4,
   "metadata": {},
   "outputs": [
    {
     "name": "stdout",
     "output_type": "stream",
     "text": [
      "Tree contains 1263 leaves.\n",
      "Tree contains 1267 leaves.\n",
      "Tree contains 1261 leaves.\n",
      "Tree contains 1271 leaves.\n",
      "Tree contains 1273 leaves.\n",
      "Tree contains 1271 leaves.\n",
      "Tree contains 1274 leaves.\n",
      "Tree contains 1260 leaves.\n",
      "Tree contains 1270 leaves.\n",
      "Tree contains 1276 leaves.\n",
      "Tree contains 1275 leaves.\n",
      "Tree contains 1264 leaves.\n",
      "Tree contains 1256 leaves.\n",
      "Tree contains 1273 leaves.\n",
      "Tree contains 1262 leaves.\n",
      "Tree contains 1252 leaves.\n",
      "Tree contains 1279 leaves.\n",
      "Tree contains 1278 leaves.\n",
      "Tree contains 1275 leaves.\n",
      "Tree contains 1276 leaves.\n",
      "Tree contains 1289 leaves.\n",
      "Tree contains 1265 leaves.\n",
      "Tree contains 1267 leaves.\n",
      "Tree contains 1263 leaves.\n",
      "Tree contains 1276 leaves.\n",
      "Tree contains 1262 leaves.\n",
      "Tree contains 1265 leaves.\n",
      "Tree contains 1264 leaves.\n",
      "Tree contains 1267 leaves.\n",
      "Tree contains 1264 leaves.\n",
      "Tree contains 1275 leaves.\n",
      "Tree contains 1257 leaves.\n",
      "Tree contains 1263 leaves.\n",
      "Tree contains 1265 leaves.\n",
      "Tree contains 1266 leaves.\n",
      "Tree contains 1259 leaves.\n",
      "Tree contains 1274 leaves.\n",
      "Tree contains 1258 leaves.\n",
      "Tree contains 1259 leaves.\n",
      "Tree contains 1264 leaves.\n",
      "Tree contains 1274 leaves.\n",
      "Tree contains 1283 leaves.\n",
      "Tree contains 1256 leaves.\n",
      "Tree contains 1270 leaves.\n",
      "Tree contains 1268 leaves.\n",
      "Tree contains 1257 leaves.\n",
      "Tree contains 1278 leaves.\n",
      "Tree contains 1256 leaves.\n",
      "Tree contains 1264 leaves.\n",
      "Tree contains 1264 leaves.\n",
      "Tree contains 1272 leaves.\n",
      "Tree contains 1262 leaves.\n",
      "Tree contains 1267 leaves.\n",
      "Tree contains 1279 leaves.\n",
      "Tree contains 1266 leaves.\n",
      "Tree contains 1290 leaves.\n",
      "Tree contains 1263 leaves.\n",
      "Tree contains 1274 leaves.\n",
      "Tree contains 1263 leaves.\n",
      "Tree contains 1266 leaves.\n",
      "Tree contains 1255 leaves.\n",
      "Tree contains 1269 leaves.\n",
      "Tree contains 1272 leaves.\n",
      "Tree contains 1259 leaves.\n",
      "Tree contains 1267 leaves.\n",
      "Tree contains 1283 leaves.\n",
      "Tree contains 1276 leaves.\n",
      "Tree contains 1270 leaves.\n",
      "Tree contains 1271 leaves.\n",
      "Tree contains 1258 leaves.\n",
      "Tree contains 1261 leaves.\n",
      "Tree contains 1272 leaves.\n",
      "Tree contains 1264 leaves.\n",
      "Tree contains 1271 leaves.\n",
      "Tree contains 1259 leaves.\n",
      "Tree contains 1270 leaves.\n",
      "Tree contains 1269 leaves.\n",
      "Tree contains 1269 leaves.\n",
      "Tree contains 1273 leaves.\n",
      "Tree contains 1276 leaves.\n",
      "Tree contains 1266 leaves.\n",
      "Tree contains 1269 leaves.\n",
      "Tree contains 1270 leaves.\n",
      "Tree contains 1261 leaves.\n",
      "Tree contains 1275 leaves.\n",
      "Tree contains 1256 leaves.\n",
      "Tree contains 1259 leaves.\n",
      "Tree contains 1274 leaves.\n",
      "Tree contains 1267 leaves.\n",
      "Tree contains 1261 leaves.\n",
      "Tree contains 1263 leaves.\n",
      "Tree contains 1268 leaves.\n",
      "Tree contains 1262 leaves.\n",
      "Tree contains 1280 leaves.\n",
      "Tree contains 1267 leaves.\n",
      "Tree contains 1264 leaves.\n",
      "Tree contains 1274 leaves.\n",
      "Tree contains 1278 leaves.\n",
      "Tree contains 1272 leaves.\n",
      "Tree contains 1276 leaves.\n",
      "Tree contains 1265 leaves.\n",
      "Tree contains 1265 leaves.\n",
      "Tree contains 1287 leaves.\n",
      "Tree contains 1269 leaves.\n",
      "Tree contains 1285 leaves.\n",
      "Tree contains 1273 leaves.\n",
      "Tree contains 1270 leaves.\n",
      "Tree contains 1269 leaves.\n",
      "Tree contains 1269 leaves.\n",
      "Tree contains 1285 leaves.\n",
      "Tree contains 1279 leaves.\n",
      "Tree contains 1267 leaves.\n",
      "Tree contains 1268 leaves.\n",
      "Tree contains 1263 leaves.\n",
      "Tree contains 1278 leaves.\n",
      "Tree contains 1271 leaves.\n",
      "Tree contains 1283 leaves.\n",
      "Tree contains 1273 leaves.\n",
      "Tree contains 1272 leaves.\n",
      "Tree contains 1265 leaves.\n",
      "Tree contains 1269 leaves.\n",
      "Tree contains 1266 leaves.\n",
      "Tree contains 1265 leaves.\n",
      "Tree contains 1247 leaves.\n",
      "Tree contains 1261 leaves.\n",
      "Tree contains 1264 leaves.\n",
      "Tree contains 1261 leaves.\n",
      "Tree contains 1272 leaves.\n",
      "Tree contains 1265 leaves.\n",
      "Tree contains 1264 leaves.\n",
      "Tree contains 1256 leaves.\n",
      "Tree contains 1267 leaves.\n",
      "Tree contains 1277 leaves.\n",
      "Tree contains 1270 leaves.\n",
      "Tree contains 1263 leaves.\n",
      "Tree contains 1268 leaves.\n",
      "Tree contains 1270 leaves.\n",
      "Tree contains 1277 leaves.\n",
      "Tree contains 1270 leaves.\n",
      "Tree contains 1265 leaves.\n",
      "Tree contains 1255 leaves.\n",
      "Tree contains 1265 leaves.\n",
      "Tree contains 1259 leaves.\n",
      "Tree contains 1272 leaves.\n",
      "Tree contains 1263 leaves.\n",
      "Tree contains 1259 leaves.\n",
      "Tree contains 1262 leaves.\n",
      "Tree contains 1272 leaves.\n",
      "Tree contains 1271 leaves.\n",
      "Tree contains 1276 leaves.\n",
      "Tree contains 1271 leaves.\n",
      "Tree contains 1275 leaves.\n",
      "Tree contains 1274 leaves.\n",
      "Tree contains 1273 leaves.\n",
      "Tree contains 1274 leaves.\n",
      "Tree contains 1275 leaves.\n",
      "Tree contains 1271 leaves.\n",
      "Tree contains 1261 leaves.\n",
      "Tree contains 1257 leaves.\n",
      "Tree contains 1273 leaves.\n",
      "Tree contains 1272 leaves.\n",
      "Tree contains 1274 leaves.\n",
      "Tree contains 1270 leaves.\n",
      "Tree contains 1254 leaves.\n",
      "Tree contains 1286 leaves.\n",
      "Tree contains 1276 leaves.\n",
      "Tree contains 1264 leaves.\n",
      "Tree contains 1268 leaves.\n",
      "Tree contains 1260 leaves.\n",
      "Tree contains 1265 leaves.\n",
      "Tree contains 1267 leaves.\n",
      "Tree contains 1279 leaves.\n",
      "Tree contains 1273 leaves.\n",
      "Tree contains 1262 leaves.\n",
      "Tree contains 1259 leaves.\n",
      "Tree contains 1272 leaves.\n",
      "Tree contains 1267 leaves.\n",
      "Tree contains 1265 leaves.\n",
      "Tree contains 1263 leaves.\n",
      "Tree contains 1267 leaves.\n",
      "Tree contains 1266 leaves.\n",
      "Tree contains 1264 leaves.\n",
      "Tree contains 1279 leaves.\n",
      "Tree contains 1263 leaves.\n",
      "Tree contains 1261 leaves.\n",
      "Tree contains 1263 leaves.\n",
      "Tree contains 1276 leaves.\n",
      "Tree contains 1266 leaves.\n",
      "Tree contains 1271 leaves.\n",
      "Tree contains 1253 leaves.\n",
      "Tree contains 1259 leaves.\n",
      "Tree contains 1273 leaves.\n",
      "Tree contains 1275 leaves.\n",
      "Tree contains 1273 leaves.\n",
      "Tree contains 1261 leaves.\n",
      "Tree contains 1264 leaves.\n",
      "Tree contains 1276 leaves.\n",
      "Tree contains 1274 leaves.\n",
      "Tree contains 1268 leaves.\n",
      "Tree contains 1261 leaves.\n",
      "Tree contains 1283 leaves.\n",
      "Tree contains 1265 leaves.\n",
      "Tree contains 1265 leaves.\n",
      "Tree contains 1270 leaves.\n",
      "Tree contains 1262 leaves.\n",
      "Tree contains 1269 leaves.\n",
      "Tree contains 1271 leaves.\n",
      "Tree contains 1283 leaves.\n",
      "Tree contains 1259 leaves.\n",
      "Tree contains 1271 leaves.\n",
      "Tree contains 1274 leaves.\n",
      "Tree contains 1253 leaves.\n",
      "Tree contains 1270 leaves.\n",
      "Tree contains 1270 leaves.\n",
      "Tree contains 1270 leaves.\n",
      "Tree contains 1264 leaves.\n",
      "Tree contains 1263 leaves.\n",
      "Tree contains 1273 leaves.\n",
      "Tree contains 1262 leaves.\n",
      "Tree contains 1266 leaves.\n",
      "Tree contains 1271 leaves.\n",
      "Tree contains 1267 leaves.\n",
      "Tree contains 1262 leaves.\n",
      "Tree contains 1261 leaves.\n",
      "Tree contains 1272 leaves.\n",
      "Tree contains 1261 leaves.\n",
      "Tree contains 1263 leaves.\n",
      "Tree contains 1280 leaves.\n",
      "Tree contains 1258 leaves.\n",
      "Tree contains 1265 leaves.\n",
      "Tree contains 1264 leaves.\n",
      "Tree contains 1283 leaves.\n",
      "Tree contains 1255 leaves.\n",
      "Tree contains 1267 leaves.\n",
      "Tree contains 1272 leaves.\n",
      "Tree contains 1257 leaves.\n",
      "Tree contains 1270 leaves.\n",
      "Tree contains 1266 leaves.\n",
      "Tree contains 1268 leaves.\n",
      "Tree contains 1269 leaves.\n",
      "Tree contains 1273 leaves.\n",
      "Tree contains 1269 leaves.\n",
      "Tree contains 1257 leaves.\n",
      "Tree contains 1281 leaves.\n",
      "Tree contains 1268 leaves.\n",
      "Tree contains 1271 leaves.\n",
      "Tree contains 1275 leaves.\n",
      "Tree contains 1270 leaves.\n",
      "Tree contains 1266 leaves.\n",
      "Tree contains 1278 leaves.\n",
      "Tree contains 1269 leaves.\n",
      "Tree contains 1275 leaves.\n",
      "Tree contains 1264 leaves.\n",
      "Tree contains 1277 leaves.\n",
      "Tree contains 1265 leaves.\n",
      "Tree contains 1269 leaves.\n",
      "Tree contains 1260 leaves.\n",
      "Tree contains 1272 leaves.\n",
      "Tree contains 1255 leaves.\n",
      "Tree contains 1262 leaves.\n",
      "Tree contains 1286 leaves.\n",
      "Tree contains 1275 leaves.\n",
      "Tree contains 1282 leaves.\n",
      "Tree contains 1274 leaves.\n",
      "Tree contains 1259 leaves.\n",
      "Tree contains 1268 leaves.\n",
      "Tree contains 1273 leaves.\n",
      "Tree contains 1274 leaves.\n",
      "Tree contains 1274 leaves.\n",
      "Tree contains 1265 leaves.\n",
      "Tree contains 1261 leaves.\n",
      "Tree contains 1261 leaves.\n",
      "Tree contains 1259 leaves.\n",
      "Tree contains 1270 leaves.\n",
      "Tree contains 1272 leaves.\n",
      "Tree contains 1271 leaves.\n",
      "Tree contains 1251 leaves.\n",
      "Tree contains 1277 leaves.\n",
      "Tree contains 1262 leaves.\n",
      "Tree contains 1271 leaves.\n",
      "Tree contains 1276 leaves.\n",
      "Tree contains 1284 leaves.\n",
      "Tree contains 1277 leaves.\n",
      "Tree contains 1281 leaves.\n",
      "Tree contains 1264 leaves.\n",
      "Tree contains 1264 leaves.\n",
      "Tree contains 1260 leaves.\n",
      "Tree contains 1262 leaves.\n",
      "Tree contains 1263 leaves.\n",
      "Tree contains 1269 leaves.\n",
      "Tree contains 1259 leaves.\n",
      "Tree contains 1278 leaves.\n",
      "Tree contains 1272 leaves.\n",
      "Tree contains 1267 leaves.\n",
      "Tree contains 1263 leaves.\n",
      "Tree contains 1265 leaves.\n",
      "Tree contains 1260 leaves.\n",
      "Tree contains 1256 leaves.\n",
      "Tree contains 1264 leaves.\n",
      "Tree contains 1270 leaves.\n"
     ]
    }
   ],
   "source": [
    "graphs_1000 = []\n",
    "directory = '/Users/sitarapersad/benchmark_networks/1000_samples/characters/trees/' \n",
    "for f in os.listdir(directory):\n",
    "    if f.endswith(\".pkl\"):\n",
    "        true_network = nx.read_gpickle(directory+f)\n",
    "\n",
    "        G = true_network\n",
    "        graphs_1000.append(G)\n",
    "        leaves = [x for x in G.nodes() if G.out_degree(x)==0]\n",
    "\n",
    "        print('Tree contains {0} leaves.'.format(len(leaves)))"
   ]
  },
  {
   "cell_type": "code",
   "execution_count": 13,
   "metadata": {},
   "outputs": [],
   "source": [
    "from cassiopeia.TreeSolver.score_triplets import score_triplets\n",
    "from cassiopeia.TreeSolver.Cassiopeia_Tree import Cassiopeia_Tree"
   ]
  },
  {
   "cell_type": "code",
   "execution_count": 16,
   "metadata": {},
   "outputs": [
    {
     "data": {
      "text/plain": [
       "0.8581556004420126"
      ]
     },
     "execution_count": 16,
     "metadata": {},
     "output_type": "execute_result"
    }
   ],
   "source": [
    "G = graphs_400[0]\n",
    "tree = Cassiopeia_Tree(method ='simulated', network = G)\n",
    "\n",
    "# Why is the score_triplets not 1??\n",
    "score_triplets(tree,tree,modified=True)"
   ]
  },
  {
   "cell_type": "code",
   "execution_count": null,
   "metadata": {},
   "outputs": [],
   "source": [
    "# #Make this display a tree...\n",
    "# import json\n",
    "\n",
    "# import flask\n",
    "# import networkx as nx\n",
    "# from networkx.readwrite import json_graph\n",
    "\n",
    "\n",
    "# # write json formatted data\n",
    "# d = json_graph.node_link_data(true_network)  # node-link format to serialize\n",
    "\n",
    "# # Make Node objects serialized\n",
    "# l = []\n",
    "# for elt in d['nodes']:\n",
    "#     l.append({'id':elt['id'].toJSON()})\n",
    "# d['nodes'] = l\n",
    "\n",
    "# l = []\n",
    "# for elt in d['links']:\n",
    "#     l.append({'source':elt['source'].toJSON(), 'target':elt['target'].toJSON()})\n",
    "# d['links'] = l\n",
    "\n",
    "\n",
    "# # write json\n",
    "# json.dump(d, open(\"force/force.json\", \"w\"))\n",
    "# print(\"Wrote node-link JSON data to force/force.json\")\n",
    "\n",
    "# # Serve the file over http to allow for cross origin requests\n",
    "# app = flask.Flask(__name__, static_folder=\"force\")\n",
    "\n",
    "# @app.route(\"/\")\n",
    "# def static_proxy():\n",
    "#     return app.send_static_file(\"force.html\")\n",
    "\n",
    "\n",
    "# print(\"\\nGo to http://localhost:8000 to see the example\\n\")\n",
    "# app.run(port=8000)"
   ]
  },
  {
   "cell_type": "code",
   "execution_count": null,
   "metadata": {},
   "outputs": [],
   "source": []
  }
 ],
 "metadata": {
  "kernelspec": {
   "display_name": "Python 3",
   "language": "python",
   "name": "python3"
  },
  "language_info": {
   "codemirror_mode": {
    "name": "ipython",
    "version": 3
   },
   "file_extension": ".py",
   "mimetype": "text/x-python",
   "name": "python",
   "nbconvert_exporter": "python",
   "pygments_lexer": "ipython3",
   "version": "3.7.4"
  }
 },
 "nbformat": 4,
 "nbformat_minor": 2
}
