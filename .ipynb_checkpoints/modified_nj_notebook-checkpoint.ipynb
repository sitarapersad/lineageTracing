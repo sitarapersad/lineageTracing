{
 "cells": [
  {
   "cell_type": "code",
   "execution_count": 67,
   "metadata": {},
   "outputs": [],
   "source": [
    "import numpy as np\n",
    "from scipy.spatial.distance import pdist, squareform\n",
    "from skbio.tree import TreeNode\n",
    "import copy\n",
    "import time \n",
    "\n",
    "def mod_nj(feature_matrix, prob_features, names=None, result_constructor=None):\n",
    "    fm = copy.deepcopy(feature_matrix)\n",
    "\n",
    "    if names is None:\n",
    "        names = np.arange(fm.shape[0])\n",
    "#     # Determine the lcas for each pair of sites\n",
    "#     lcas = np.zeros((fm.shape[0], fm.shape[0], fm.shape[1]))\n",
    "#     for i in range(fm.shape[0]):\n",
    "#         for j in range(i+1, fm.shape[0]):\n",
    "#             lcas[i,j] = fm[i]*fm[j]\n",
    "#             lcas[j,i] = lcas[i,j]\n",
    "    \n",
    "    names = np.array(names)\n",
    "    perm = np.random.permutation(len(names))\n",
    "    \n",
    "    feature_matrix = feature_matrix[perm]\n",
    "    names = names[perm]\n",
    "    \n",
    "    print(names, perm)\n",
    "#     log_prob_features = np.log(prob_features)\n",
    "    log_prob_features = (prob_features)\n",
    "    log_prob_features[-log_prob_features == np.inf] = -10000 #hacky\n",
    "    \n",
    "    \n",
    "    # Compute the distance matrix\n",
    "    D = squareform(pdist(fm, lambda u,v: (- (u + v - 2*u*v) * log_prob_features).sum()))\n",
    "    \n",
    "    tree_nodes = {}\n",
    "    \n",
    "    print('Starting with {0} nodes'.format(len(D)))\n",
    "    new_name = len(D)\n",
    "    while len(D) > 2:\n",
    "        \n",
    "        print('D', D)\n",
    "       \n",
    "        s = time.time()\n",
    "        # Compute the Q matrix -> Q(ij)=d(ij) - [r(i) + r(j)]/(N-2)\n",
    "        R  = np.tile(D.sum(0), (fm.shape[0], 1))\n",
    "        \n",
    "        R = (R + R.T)\n",
    "        \n",
    "        Q = D*(fm.shape[0]-2) - R\n",
    "        \n",
    "        print('R', R)\n",
    "        print('Q', Q)\n",
    "        \n",
    "        # Convert Q martix to lower triangular form without the diagonal to avoid merging the same site\n",
    "        Q[np.tril_indices(Q.shape[0], 0)]  = np.inf\n",
    "        \n",
    "        print('min: ', np.argmin(Q, axis=None))\n",
    "        # Now find the argmin (i,j) of Q. These are the sites the be merged\n",
    "        min_i, min_j = np.unravel_index(np.argmin(Q, axis=None), Q.shape)\n",
    "        s = time.time() \n",
    "        \n",
    "        # Now we merge i,j. We need to replace i,j in the feature matrix with lca(i,j).\n",
    "        lca = fm[min_i]*fm[min_j]\n",
    "        fm  = np.delete(fm, [min_i,min_j], axis=0)\n",
    "        fm  = np.vstack([fm, lca])\n",
    "        \n",
    "        \n",
    "        \n",
    "        # Create a new TreeNode from the merged children\n",
    "        \n",
    "#         new_name = 'lca({0},{1})'.format(names[min_i], names[min_j])\n",
    "        new_name += 1\n",
    "        child_i = tree_nodes.get(names[min_i], TreeNode(name=str(names[min_i])))\n",
    "        child_j = tree_nodes.get(names[min_j], TreeNode(name=str(names[min_j])))\n",
    "        new_node = TreeNode(name=str(new_name), length=None, parent=None, children=[child_i, child_j])\n",
    "        new_node.lca = lca \n",
    "        \n",
    "        print(names[min_i], names[min_j], 'joined')\n",
    "        child_i.parent = new_node\n",
    "        child_j.parent = new_node\n",
    "        \n",
    "        tree_nodes[new_name] = new_node\n",
    "        \n",
    "        \n",
    "        names = np.delete(names, [min_i,min_j], axis=0)\n",
    "        names = np.hstack([names, new_name])\n",
    "        \n",
    "\n",
    "        \n",
    "#         # Remove the entries for i,j in the lca matrix.\n",
    "#         lcas = np.delete(np.delete(lcas, [min_i,min_j], axis=0), [min_i,min_j], axis=1)\n",
    "\n",
    "#         # Add a new lca entry for the merged node lca(i,j) -> k for every other k in the feature matrix \n",
    "#         new_lcas = np.zeros((fm.shape[0], fm.shape[0], fm.shape[1]))\n",
    "#         new_lcas[:-1,:-1,:] = lcas\n",
    "#         j = -1 \n",
    "#         for i in range(fm.shape[0]):\n",
    "#             new_lcas[i,j] = fm[i]*fm[j]\n",
    "#             new_lcas[j,i] = new_lcas[i,j]\n",
    "#         lcas = new_lcas\n",
    "\n",
    "        # We also need to replace the distance of each site k to i or j with the distance to lca(i,j)\n",
    "\n",
    "        D = np.delete(np.delete(D, [min_i,min_j], axis=0), [min_i,min_j], axis=1)\n",
    "\n",
    "        new_D = np.zeros((fm.shape[0], fm.shape[0]))\n",
    "        new_D[:-1, :-1] = D\n",
    "\n",
    "        new_D_row = - ((fm + fm[-1] - 2* fm * fm[-1])*log_prob_features).sum(1)\n",
    "\n",
    "\n",
    "        new_D[-1, :] = new_D_row\n",
    "        new_D[:, -1] = new_D_row\n",
    "        D = new_D\n",
    "        \n",
    "    new_name += 1\n",
    "    # Merge the last two remaining sites to complete the tree\n",
    "    child1, child2 = tree_nodes[names[0]], tree_nodes[names[1]]\n",
    "    root = TreeNode(name = str(new_name), children=[child1, child2])\n",
    "    child1.parent = root\n",
    "    child2.parent = root\n",
    "    \n",
    "    return root\n",
    "\n"
   ]
  },
  {
   "cell_type": "code",
   "execution_count": 68,
   "metadata": {},
   "outputs": [],
   "source": [
    "feature_matrix = np.array([[1,1,0,0,0], \n",
    "                           [1,1,0,0,0],\n",
    "                           [1,0,1,0,0], \n",
    "                           [1,0,1,0,1],\n",
    "                           [0,0,0,1,0],\n",
    "                           [0,0,0,1,0]]\n",
    "                          )"
   ]
  },
  {
   "cell_type": "code",
   "execution_count": 69,
   "metadata": {},
   "outputs": [
    {
     "name": "stdout",
     "output_type": "stream",
     "text": [
      "[5 3 6 4 2 1] [4 2 5 3 1 0]\n",
      "Starting with 6 nodes\n",
      "D [[0. 0. 2. 3. 3. 3.]\n",
      " [0. 0. 2. 3. 3. 3.]\n",
      " [2. 2. 0. 1. 3. 3.]\n",
      " [3. 3. 1. 0. 4. 4.]\n",
      " [3. 3. 3. 4. 0. 0.]\n",
      " [3. 3. 3. 4. 0. 0.]]\n",
      "R [[22. 22. 22. 26. 24. 24.]\n",
      " [22. 22. 22. 26. 24. 24.]\n",
      " [22. 22. 22. 26. 24. 24.]\n",
      " [26. 26. 26. 30. 28. 28.]\n",
      " [24. 24. 24. 28. 26. 26.]\n",
      " [24. 24. 24. 28. 26. 26.]]\n",
      "Q [[-22. -22. -14. -14. -12. -12.]\n",
      " [-22. -22. -14. -14. -12. -12.]\n",
      " [-14. -14. -22. -22. -12. -12.]\n",
      " [-14. -14. -22. -30. -12. -12.]\n",
      " [-12. -12. -12. -12. -26. -26.]\n",
      " [-12. -12. -12. -12. -26. -26.]]\n",
      "min:  34\n",
      "1 2 joined\n",
      "D [[0. 0. 2. 3. 3.]\n",
      " [0. 0. 2. 3. 3.]\n",
      " [2. 2. 0. 1. 3.]\n",
      " [3. 3. 1. 0. 4.]\n",
      " [3. 3. 3. 4. 0.]]\n",
      "R [[16. 16. 16. 19. 21.]\n",
      " [16. 16. 16. 19. 21.]\n",
      " [16. 16. 16. 19. 21.]\n",
      " [19. 19. 19. 22. 24.]\n",
      " [21. 21. 21. 24. 26.]]\n",
      "Q [[-16. -16. -10. -10. -12.]\n",
      " [-16. -16. -10. -10. -12.]\n",
      " [-10. -10. -16. -16. -12.]\n",
      " [-10. -10. -16. -22. -12.]\n",
      " [-12. -12. -12. -12. -26.]]\n",
      "min:  5\n",
      "3 5 joined\n",
      "D [[0. 1. 3. 2.]\n",
      " [1. 0. 4. 3.]\n",
      " [3. 4. 0. 3.]\n",
      " [2. 3. 3. 0.]]\n",
      "R [[12. 14. 16. 14.]\n",
      " [14. 16. 18. 16.]\n",
      " [16. 18. 20. 18.]\n",
      " [14. 16. 18. 16.]]\n",
      "Q [[-12. -12. -10. -10.]\n",
      " [-12. -16. -10. -10.]\n",
      " [-10. -10. -20. -12.]\n",
      " [-10. -10. -12. -16.]]\n",
      "min:  4\n",
      "4 6 joined\n",
      "D [[0. 3. 3.]\n",
      " [3. 0. 2.]\n",
      " [3. 2. 0.]]\n",
      "R [[12. 11. 11.]\n",
      " [11. 10. 10.]\n",
      " [11. 10. 10.]]\n",
      "Q [[-12.  -8.  -8.]\n",
      " [ -8. -10.  -8.]\n",
      " [ -8.  -8. -10.]]\n",
      "min:  3\n",
      "8 7 joined\n"
     ]
    }
   ],
   "source": [
    "root = mod_nj(feature_matrix, prob_features, [1,2,3,4,5,6])"
   ]
  },
  {
   "cell_type": "code",
   "execution_count": 70,
   "metadata": {},
   "outputs": [
    {
     "name": "stdout",
     "output_type": "stream",
     "text": [
      "                    /-4\n",
      "          /9-------|\n",
      "         |          \\-6\n",
      "         |\n",
      "-11------|                    /-3\n",
      "         |          /8-------|\n",
      "         |         |          \\-5\n",
      "          \\10------|\n",
      "                   |          /-1\n",
      "                    \\7-------|\n",
      "                              \\-2\n"
     ]
    }
   ],
   "source": [
    "print(root.ascii_art())"
   ]
  },
  {
   "cell_type": "code",
   "execution_count": 36,
   "metadata": {},
   "outputs": [
    {
     "data": {
      "text/plain": [
       "array([3, 0, 4, 5, 1, 2])"
      ]
     },
     "execution_count": 36,
     "metadata": {},
     "output_type": "execute_result"
    }
   ],
   "source": [
    "p = np.random.permutation(6)\n",
    "p"
   ]
  },
  {
   "cell_type": "code",
   "execution_count": 37,
   "metadata": {},
   "outputs": [
    {
     "data": {
      "text/plain": [
       "array([[1, 1, 0, 0, 0],\n",
       "       [1, 1, 0, 0, 0],\n",
       "       [1, 0, 1, 0, 0],\n",
       "       [1, 0, 1, 0, 1],\n",
       "       [0, 0, 0, 1, 0],\n",
       "       [0, 0, 0, 1, 0]])"
      ]
     },
     "execution_count": 37,
     "metadata": {},
     "output_type": "execute_result"
    }
   ],
   "source": [
    "feature_matrix"
   ]
  },
  {
   "cell_type": "code",
   "execution_count": 38,
   "metadata": {},
   "outputs": [
    {
     "data": {
      "text/plain": [
       "array([[1, 0, 1, 0, 1],\n",
       "       [1, 1, 0, 0, 0],\n",
       "       [0, 0, 0, 1, 0],\n",
       "       [0, 0, 0, 1, 0],\n",
       "       [1, 1, 0, 0, 0],\n",
       "       [1, 0, 1, 0, 0]])"
      ]
     },
     "execution_count": 38,
     "metadata": {},
     "output_type": "execute_result"
    }
   ],
   "source": [
    "feature_matrix[p]"
   ]
  },
  {
   "cell_type": "code",
   "execution_count": 65,
   "metadata": {},
   "outputs": [],
   "source": [
    "names = np.array([1,2,3,4,5,6])"
   ]
  },
  {
   "cell_type": "code",
   "execution_count": 66,
   "metadata": {},
   "outputs": [
    {
     "data": {
      "text/plain": [
       "array([4, 1, 5, 6, 2, 3])"
      ]
     },
     "execution_count": 66,
     "metadata": {},
     "output_type": "execute_result"
    }
   ],
   "source": [
    "names[p]"
   ]
  },
  {
   "cell_type": "code",
   "execution_count": 469,
   "metadata": {},
   "outputs": [
    {
     "data": {
      "text/plain": [
       "array([[ 0.        ,  0.        ,  0.        ],\n",
       "       [-2.40794561,  0.        ,  0.        ],\n",
       "       [-2.40794561, -2.40794561,  0.        ]])"
      ]
     },
     "execution_count": 469,
     "metadata": {},
     "output_type": "execute_result"
    }
   ],
   "source": [
    "Q"
   ]
  },
  {
   "cell_type": "code",
   "execution_count": null,
   "metadata": {},
   "outputs": [],
   "source": []
  }
 ],
 "metadata": {
  "kernelspec": {
   "display_name": "Python 3",
   "language": "python",
   "name": "python3"
  },
  "language_info": {
   "codemirror_mode": {
    "name": "ipython",
    "version": 3
   },
   "file_extension": ".py",
   "mimetype": "text/x-python",
   "name": "python",
   "nbconvert_exporter": "python",
   "pygments_lexer": "ipython3",
   "version": "3.7.4"
  }
 },
 "nbformat": 4,
 "nbformat_minor": 2
}
