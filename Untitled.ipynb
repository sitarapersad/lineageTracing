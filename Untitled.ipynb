{
 "cells": [
  {
   "cell_type": "code",
   "execution_count": null,
   "metadata": {},
   "outputs": [],
   "source": [
    "import numpy as np\n",
    "\n",
    "class CellGroupNode:\n",
    "    \"\"\"\n",
    "    An abstract class for all nodes in a tree. \n",
    "\n",
    "    Attributes:\n",
    "    - feature_matrix: dataframe consisting of the feature matrix of all cells contained in this node \n",
    "    \n",
    "    Methods:\n",
    "    - get_character_string: utility function for getting character string\n",
    "    - get_name: utility for getting the name of the node\n",
    "    - get_character_vec: utility for getting the character vector\n",
    "    - get_edit_distance: calculate the edit distance between two nodes\n",
    "    - get_modified_hamming_dist: calculate hamming distance between nodes, taking into account mutagenesis process\n",
    "    - get_mut_length: get a 0 - 1 value indicating the proportion of non-missing characters are different between two nodes\n",
    "\n",
    "    \"\"\"\n",
    "\n",
    "    def __init__(self, name):\n",
    "        \"\"\"\n",
    "        Initiate a new Node.\n",
    "\n",
    "        :param feature_matrix:\n",
    "            Dataframe consisting of the feature matrix of all cells contained in this node\n",
    "\n",
    "        \"\"\"\n",
    "        self.feature_matrix = feature_matrix\n"
   ]
  }
 ],
 "metadata": {
  "kernelspec": {
   "display_name": "Python 3",
   "language": "python",
   "name": "python3"
  },
  "language_info": {
   "codemirror_mode": {
    "name": "ipython",
    "version": 3
   },
   "file_extension": ".py",
   "mimetype": "text/x-python",
   "name": "python",
   "nbconvert_exporter": "python",
   "pygments_lexer": "ipython3",
   "version": "3.8.3"
  }
 },
 "nbformat": 4,
 "nbformat_minor": 4
}
