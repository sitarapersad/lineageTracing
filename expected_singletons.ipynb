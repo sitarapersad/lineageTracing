{
 "cells": [
  {
   "cell_type": "code",
   "execution_count": 336,
   "metadata": {
    "collapsed": true
   },
   "outputs": [],
   "source": [
    "import numpy as np\n",
    "import pandas as pd\n",
    "import torch\n",
    "import os\n",
    "import matplotlib.pyplot as plt\n",
    "import seaborn as sns\n",
    "sns.set()\n",
    "sns.set(font_scale=1)"
   ]
  },
  {
   "cell_type": "markdown",
   "metadata": {},
   "source": [
    "## Singleton Estimation\n",
    "\n",
    "We want to estimate the number of singletons that we can expect to have for skeleton tree reconstruction\n",
    "\n",
    "<b> Variables to Consider:</b>\n",
    "\n",
    "- num_targets - number of potential target sites \n",
    "- mut_rate - mutation rate per target site\n",
    "- edit_distribution - distribution over potential edits per target site\n",
    "\n",
    "<hr>\n",
    "\n",
    "<b> Simulation Formulation </b>\n",
    "\n",
    "We begin each simulation with one cell, representing the fertilised egg, that has all its targets in an unmutated state. The initial cell then undergoes a series of cell divisions (d), growing into a population of N cells, where $N=2^d$. Following each cell division, each unmutated target can mutate (with a given probability μd) to one of several possible mutated states. Once a target is mutated, it can no longer change, either to revert to the unmutated state or to transit to a new state.\n",
    "\n",
    "\n",
    "<b> Useful References </b>\n",
    "\n",
    "<sub> [1]https://elifesciences.org/articles/40292\n",
    "\n",
    "\n",
    "</sub>"
   ]
  },
  {
   "cell_type": "code",
   "execution_count": 253,
   "metadata": {
    "collapsed": false
   },
   "outputs": [],
   "source": [
    "## How many cells does the real data end up with?\n",
    "## Did this seed from one cell? \n",
    "\n",
    "import pickle\n",
    "with open('/Users/sitarapersad/Downloads/d21_indel_distributions.p', 'rb') as f:\n",
    "    indel_distributions = pickle.load(f)\n",
    "\n",
    "slow_guides = ['AGCTGCTTAGGGCGCAGCCT', 'CTCCTTGCGTTGACCCGCTT', 'TATTGCCTCTTAATCGTCTT']\n",
    "medium_guides = ['AATCCCTAGTAGATTAGCCT', 'CACAGAACTTTATGACGATA', 'TTAAGTTTGAGCTCGCGCAA']\n",
    "fast_guides = ['TAATTCCGGACGAAATCTTG', 'CTTCCACGGCTCTAGTACAT', 'CCTCCCGTAGTGTTGAGTCA']\n",
    "\n",
    "for li in [slow_guides, medium_guides, fast_guides]:\n",
    "    for guide in li:\n",
    "        dist = indel_distributions[guide]\n",
    "        try:\n",
    "            del dist['']\n",
    "        except KeyError:\n",
    "            pass\n",
    "        distvals = np.array(sorted(list(dist.values()), reverse=True))\n",
    "        distvals = distvals/distvals.sum()\n",
    "        plt.figure()\n",
    "        sns.barplot(np.arange(len(distvals)), distvals, linewidth=0)\n",
    "        plt.title('Density over different edits for guide {0}'.format(guide))\n",
    "        plt.show()\n",
    "        plt.close()\n",
    "\n",
    "# Estimate the mutation probability\n",
    "\n",
    "# For a given site E_i[%] = E_{i-1}[%] + p(1-E_{i-1}[%])\n",
    "# E_i = 1-q^i, where q = 1-p \n",
    "# Sanity check: \n",
    "# E_0 = 1-(1-p)^0 = 0 \n",
    "# E_1 = 1-(1-p) = p \n",
    "\n",
    "# We can choose to use a combination of varying speed guides \n",
    "\n",
    "# 4, 7, 14, 21 days -> 4 generations, 7 generations etc (24 hrs for cell cycle?)\n",
    "\n",
    "# How many generations does 1 day correspond to?\n",
    "# Slow guides:\n",
    "slow = [0.09, 0.15, 0.29, 0.4]\n",
    "\n",
    "# Medium guides\n",
    "medium = [0.15, 0.35, 0.6, 0.75]\n",
    "\n",
    "# Fast guides\n",
    "fast = [0.75, 0.9, 0.95, 0.96]\n",
    "\n",
    "\n"
   ]
  },
  {
   "cell_type": "code",
   "execution_count": 265,
   "metadata": {
    "collapsed": false
   },
   "outputs": [
    {
     "name": "stdout",
     "output_type": "stream",
     "text": [
      "\n",
      "Slow\n",
      "0.02330188829047808\n",
      "0.02294954933760507\n",
      "0.02416678505263603\n",
      "0.024031560532588148\n",
      "Avg\n",
      "0.02361244580332683\n",
      "\n",
      "Medium\n",
      "0.03981541059581217\n",
      "0.05968505934696777\n",
      "0.06335350204906998\n",
      "0.0638822575463951\n",
      "Avg\n",
      "0.056684057384561254\n",
      "\n",
      "Fast\n",
      "0.2928932188134524\n",
      "0.28031432699884795\n",
      "0.19263617565013524\n",
      "0.14211035031316765\n",
      "Avg\n",
      "0.22698851794390082\n"
     ]
    }
   ],
   "source": [
    "gens = [4,7,14,21]\n",
    "print('\\nSlow')\n",
    "p_avg = 0\n",
    "for i, x in enumerate(slow):\n",
    "    G = 1/gens[i]\n",
    "    p = 1 - (1-x)**G\n",
    "    p_avg += p\n",
    "    print(p)\n",
    "print(\"Avg\")\n",
    "print(p_avg/4)\n",
    "\n",
    "print('\\nMedium')\n",
    "p_avg = 0\n",
    "for i, x in enumerate(medium):\n",
    "    G = 1/gens[i]\n",
    "    p = 1 - (1-x)**G\n",
    "    p_avg += p\n",
    "    print(p)\n",
    "print(\"Avg\")\n",
    "print(p_avg/4)\n",
    "\n",
    "print('\\nFast')\n",
    "p_avg = 0\n",
    "for i, x in enumerate(fast):\n",
    "    G = 1/gens[i]\n",
    "    p = 1 - (1-x)**G\n",
    "    p_avg += p\n",
    "    print(p)\n",
    "print(\"Avg\")\n",
    "print(p_avg/4)    \n",
    "\n",
    "\"\"\" \n",
    "Questions\n",
    "1. tree or forest\n",
    "2. are the rates based on isolating a clone or from a forest\n",
    "3. yosef lab was a single tree?? no\n",
    "\n",
    "try this instead: \n",
    "start with many roots (a forest)\n",
    "\n",
    "reproduction rate varying / same ?vfr \n",
    "\n",
    "\"\"\""
   ]
  },
  {
   "cell_type": "code",
   "execution_count": 270,
   "metadata": {
    "collapsed": false
   },
   "outputs": [
    {
     "data": {
      "image/png": "[encoded data removed]",
      "text/plain": [
       "<Figure size 432x288 with 1 Axes>"
      ]
     },
     "metadata": {},
     "output_type": "display_data"
    }
   ],
   "source": [
    "plt.figure()\n",
    "for p in [0.02361, 0.05668, 0.2269]:\n",
    "    q = 1-p\n",
    "    plt.plot(np.arange(21), 1-q**np.arange(21), label=p)\n",
    "plt.legend()\n",
    "plt.show()\n",
    "plt.close()\n",
    "\n",
    "rate = {}\n",
    "rate['slow'] = 0.02361\n",
    "rate['medium'] = 0.05668\n",
    "rate['fast'] = 0.2269"
   ]
  },
  {
   "cell_type": "code",
   "execution_count": 382,
   "metadata": {
    "collapsed": false,
    "scrolled": true
   },
   "outputs": [
    {
     "name": "stdout",
     "output_type": "stream",
     "text": [
      "Label: sss\n",
      "num_targets 3\n",
      "List of targets:  [(0, 0), (0, 1), (0, 2), (1, 0), (1, 1), (1, 2), (2, 0), (2, 1), (2, 2), (3, 0), (3, 1), (3, 2), (4, 0), (4, 1), (4, 2), (5, 0), (5, 1), (5, 2), (6, 0), (6, 1), (6, 2), (7, 0), (7, 1), (7, 2), (8, 0), (8, 1), (8, 2), (9, 0), (9, 1), (9, 2)]\n",
      "1 cell(s) at depth 0\n",
      "2 cell(s) at depth 1\n",
      "4 cell(s) at depth 2\n",
      "8 cell(s) at depth 3\n"
     ]
    }
   ],
   "source": [
    "slow_guides = ['AGCTGCTTAGGGCGCAGCCT', 'CTCCTTGCGTTGACCCGCTT', 'TATTGCCTCTTAATCGTCTT']\n",
    "medium_guides = ['AATCCCTAGTAGATTAGCCT', 'CACAGAACTTTATGACGATA', 'TTAAGTTTGAGCTCGCGCAA']\n",
    "fast_guides = ['TAATTCCGGACGAAATCTTG', 'CTTCCACGGCTCTAGTACAT', 'CCTCCCGTAGTGTTGAGTCA']\n",
    "\n",
    "ssm = ['AGCTGCTTAGGGCGCAGCCT', 'CTCCTTGCGTTGACCCGCTT','AATCCCTAGTAGATTAGCCT']\n",
    "smm = ['AGCTGCTTAGGGCGCAGCCT', 'AATCCCTAGTAGATTAGCCT', 'CACAGAACTTTATGACGATA']\n",
    "ssf = ['AGCTGCTTAGGGCGCAGCCT', 'CTCCTTGCGTTGACCCGCTT', 'CCTCCCGTAGTGTTGAGTCA']\n",
    "smf = ['AGCTGCTTAGGGCGCAGCCT', 'AATCCCTAGTAGATTAGCCT', 'CCTCCCGTAGTGTTGAGTCA']\n",
    "sff = ['AGCTGCTTAGGGCGCAGCCT', 'CTTCCACGGCTCTAGTACAT', 'CCTCCCGTAGTGTTGAGTCA']\n",
    "mmf = ['AATCCCTAGTAGATTAGCCT', 'CACAGAACTTTATGACGATA', 'TAATTCCGGACGAAATCTTG']\n",
    "mff = ['AATCCCTAGTAGATTAGCCT', 'TAATTCCGGACGAAATCTTG', 'CTTCCACGGCTCTAGTACAT']\n",
    "\n",
    "\n",
    "results = {'Guides':[], 'Num_Distinct_Edits':[], \n",
    "           'Min_depths':[], 'Num_Mutations':[],\n",
    "           'Recurring_Characters':[],  \n",
    "           'Recurring_Characters_%':[],\n",
    "           'Recurring_Mutations' : [],\n",
    "           'Recurring_Mutations_%': []\n",
    "          }\n",
    "    \n",
    "lists_of_guides = [slow_guides, ssm, smm, ssf, smf, sff, medium_guides, mmf, mff, fast_guides]\n",
    "labels = ['sss','ssm','smm','ssf','smf','sff', 'mmm', 'mmf','mff', 'fff']\n",
    "verbose = False\n",
    "tree_depth = 20\n",
    "num_runs = 10\n",
    "n_subsample = 3\n",
    "\n",
    "debug = True\n",
    "if debug:\n",
    "    lists_of_guides = lists_of_guides[:1]\n",
    "    labels = labels[:1]\n",
    "    tree_depth = 3\n",
    "    num_runs = 1\n",
    "    \n",
    "for i, list_of_guides in enumerate(lists_of_guides):\n",
    "    label = labels[i]\n",
    "    print('Label:', label)\n",
    "    # Each array has 3-6 targets, we insert ~10 arrays. This gives us 30-60 sites\n",
    "\n",
    "    site_ix = 0\n",
    "    target_distributions = {}\n",
    "    speed = {}\n",
    "    for guide in list_of_guides:\n",
    "        dist = indel_distributions[guide]\n",
    "        try:\n",
    "            del dist['']\n",
    "        except KeyError:\n",
    "            pass\n",
    "        distvals = np.array(sorted(list(dist.values()), reverse=True))\n",
    "        distvals = distvals/distvals.sum()\n",
    "        target_distributions[site_ix] = distvals\n",
    "        if guide in slow_guides:\n",
    "            speed[site_ix] = 'slow'\n",
    "        elif guide in medium_guides:\n",
    "            speed[site_ix] = 'medium'\n",
    "        else:\n",
    "            speed[site_ix] = 'fast'\n",
    "\n",
    "        site_ix += 1\n",
    "\n",
    "    num_targets = site_ix \n",
    "    print('num_targets', num_targets)\n",
    "    num_arrays = 10\n",
    "\n",
    "    num_edit_sites = num_targets * num_arrays\n",
    "\n",
    "    import itertools\n",
    "    targets = list(itertools.product(np.arange(num_arrays), np.arange(num_targets)))\n",
    "    print('List of targets: ', targets)\n",
    "\n",
    "    deletions = []\n",
    "    mutation_probs = []\n",
    "    for array, target in targets:\n",
    "        deletions.append(target_distributions[target])\n",
    "        mutation_probs.append(rate[speed[target]])\n",
    "    \n",
    "    deletions_weights = pd.DataFrame(deletions)\n",
    "    deletions_weights = torch.DoubleTensor(deletions_weights.fillna(0.0).values)\n",
    "    \n",
    "    # Each edit site has a different mutation probability \n",
    "    mutation_probs= np.array(mutation_probs)\n",
    "\n",
    "    \n",
    "\n",
    "    num_edits = []\n",
    "    min_depths = []\n",
    "    num_recurring_chars = []\n",
    "    proportion_recurring_chars = []\n",
    "    num_recurring_muts = []\n",
    "    proportion_recurring_muts = []\n",
    "    num_mutations_list = []\n",
    "    \n",
    "    records = []\n",
    "    \n",
    "    \n",
    "    for run in range(num_runs):\n",
    "\n",
    "        # Simulating a tree: we start out with a single cell which is unmutated\n",
    "        cell_recorder = np.zeros((1, num_edit_sites))\n",
    "        min_depth = np.nan\n",
    "\n",
    "\n",
    "        # TODO: Fix this reproduction probability\n",
    "        reproduction_prob = 1.0 \n",
    "\n",
    "\n",
    "        edits_occurred = set([])\n",
    "        convergence = {}\n",
    "        num_mutations = 0\n",
    "        record = [cell_recorder]\n",
    "        novel_edit_list = [] \n",
    "        for i in range(tree_depth):\n",
    "            # One round of CRISPR may happen between this generation's division \n",
    "            # and the previous generation\n",
    "\n",
    "            num_cells = cell_recorder.shape[0]\n",
    "\n",
    "            print('{0} cell(s) at depth {1}'.format(num_cells, i))\n",
    "\n",
    "            # TODO: Will each cell divide? And at what rate? This should be considered\n",
    "            reproducting = np.random.random((num_cells, num_edit_sites)) <= reproduction_prob\n",
    "\n",
    "            # For each target, mutate with a fixed probability\n",
    "            # This probability empirically estimated from MSKCC data with \n",
    "            # the assumption of fixed reproduction time.\n",
    "\n",
    "            # An edit occurs if \n",
    "            # (1) the probability drawn is sufficient and \n",
    "            mutating = np.random.random((num_cells, num_edit_sites)) <= mutation_probs\n",
    "\n",
    "            # (2) the site is not already edited.\n",
    "            not_edited = cell_recorder == 0 \n",
    "\n",
    "            edit_here = mutating & not_edited\n",
    "            \n",
    "            num_mutations += edit_here.sum()\n",
    "            \n",
    "            novel_edits = edit_here\n",
    "            if edit_here.sum() > 0:\n",
    "                # For the cells and targets which are mutating, now draw a deletion \n",
    "                # from the distribution specific to that. Deletions are indexed starting at 1\n",
    "                deletion_choice = 1 + torch.multinomial(torch.DoubleTensor(deletions_weights), num_cells, replacement=True).numpy().T\n",
    "                deletion_choice[~edit_here] = 0\n",
    "                novel_edits = deletion_choice \n",
    "                \n",
    "                if verbose:\n",
    "                    print('mutating')\n",
    "                    print(mutating)\n",
    "                    print('not edited')\n",
    "                    print(not_edited)\n",
    "                    print('edit_here')\n",
    "                    print(edit_here)\n",
    "                    print('deletion_ix per cell')\n",
    "                    print(deletion_choice)\n",
    "\n",
    "                    print('cell recorder before')\n",
    "                    print(cell_recorder)\n",
    "\n",
    "\n",
    "                \n",
    "\n",
    "                sites, cells = np.where(deletion_choice !=0)\n",
    "                \n",
    "#                 print(sites, 'sites')\n",
    "                site_edits = list(zip(sites, deletion_choice[(sites, cells)]))\n",
    "\n",
    "                intersection = edits_occurred.intersection(site_edits)\n",
    "\n",
    "                for edit in intersection:\n",
    "                    if verbose:\n",
    "                        print('{0} already occurred before {1}'.format(edit, i))\n",
    "                    # If a sampled (target, deletion) has already occurred, \n",
    "                    # then note the tree depth before we have 'convergent' evolution\n",
    "                    convergence[edit] = convergence.get(edit, []) + [i]\n",
    "                    if np.isnan(min_depth):\n",
    "                        min_depth = i\n",
    "\n",
    "                # Update the list of (target, deletions) that have already occurred.\n",
    "                edits_occurred = edits_occurred.union(site_edits)    \n",
    "\n",
    "\n",
    "                cell_recorder += deletion_choice \n",
    "                if verbose:\n",
    "                    print('after')\n",
    "                    print(cell_recorder)\n",
    "            \n",
    "            record.append(cell_recorder)\n",
    "            \n",
    "            # New cell_recorder has double the entries after replication\n",
    "            # TODO: Only allow some cells to replicate    \n",
    "            cell_recorder = np.repeat(cell_recorder, 2, axis=0)\n",
    "            \n",
    "        num_cells = cell_recorder.shape[0]\n",
    "        print('{0} cell(s) at depth {1}'.format(num_cells, tree_depth))\n",
    "\n",
    "        num_edits.append(len(edits_occurred))\n",
    "        num_mutations_list.append(num_mutations)\n",
    "        min_depths.append(min_depth)\n",
    "        num_recurring_chars.append(len(convergence))\n",
    "        num_recurring_muts.append(sum([len(val) for val in convergence.values()]))\n",
    "        proportion_recurring_chars.append(len(convergence)/max(1, len(edits_occurred)))\n",
    "        proportion_recurring_muts.append(num_recurring_muts[-1]/max(1, num_mutations))\n",
    "        \n",
    "    \n",
    "        records.append(record)\n",
    "    \n",
    "    # Subsample cells \n",
    "    subsampled_ix = np.random.choice(cell_recorder.shape[0], n_subsample, replace=False)\n",
    "    subsampled = cell_recorder[subsampled_ix, :]\n",
    "    \n",
    "    # We only care about the ancestors of these subsampled cells\n",
    "    \n",
    "    \n",
    "    # Summarise results for this combination of guides \n",
    "    results['Guides'] += [label]*num_runs\n",
    "    results['Num_Distinct_Edits'] += num_edits\n",
    "    results['Min_depths'] += min_depths\n",
    "    results['Num_Mutations']\n",
    "    results['Recurring_Characters'] += num_recurring_chars\n",
    "    results['Recurring_Mutations'] += num_recurring_muts\n",
    "    results['Recurring_Characters_%'] += 100*proportion_recurring_chars\n",
    "    results['Recurring_Mutations_%'] += 100*proportion_recurring_muts\n"
   ]
  },
  {
   "cell_type": "code",
   "execution_count": 383,
   "metadata": {
    "collapsed": false
   },
   "outputs": [
    {
     "data": {
      "text/plain": [
       "array([6, 2, 1])"
      ]
     },
     "execution_count": 383,
     "metadata": {},
     "output_type": "execute_result"
    }
   ],
   "source": [
    "subsampled_ix"
   ]
  },
  {
   "cell_type": "code",
   "execution_count": 350,
   "metadata": {
    "collapsed": false
   },
   "outputs": [
    {
     "ename": "ValueError",
     "evalue": "arrays must all be same length",
     "output_type": "error",
     "traceback": [
      "\u001b[0;31m---------------------------------------------------------------------------\u001b[0m",
      "\u001b[0;31mValueError\u001b[0m                                Traceback (most recent call last)",
      "\u001b[0;32m<ipython-input-350-ee22f4722c19>\u001b[0m in \u001b[0;36m<module>\u001b[0;34m()\u001b[0m\n\u001b[0;32m----> 1\u001b[0;31m \u001b[0mdf\u001b[0m \u001b[0;34m=\u001b[0m \u001b[0mpd\u001b[0m\u001b[0;34m.\u001b[0m\u001b[0mDataFrame\u001b[0m\u001b[0;34m(\u001b[0m\u001b[0mresults\u001b[0m\u001b[0;34m)\u001b[0m\u001b[0;34m\u001b[0m\u001b[0m\n\u001b[0m\u001b[1;32m      2\u001b[0m \u001b[0mdf\u001b[0m\u001b[0;34m.\u001b[0m\u001b[0mhead\u001b[0m\u001b[0;34m(\u001b[0m\u001b[0;34m)\u001b[0m\u001b[0;34m\u001b[0m\u001b[0m\n\u001b[1;32m      3\u001b[0m \u001b[0;34m\u001b[0m\u001b[0m\n\u001b[1;32m      4\u001b[0m \u001b[0;31m# For a subsampled to 10,000\u001b[0m\u001b[0;34m\u001b[0m\u001b[0;34m\u001b[0m\u001b[0m\n\u001b[1;32m      5\u001b[0m \u001b[0;31m# For a typical cell - how many mutations does it have that are recurrent\u001b[0m\u001b[0;34m\u001b[0m\u001b[0;34m\u001b[0m\u001b[0m\n",
      "\u001b[0;32m/Users/sitarapersad/anaconda/lib/python3.6/site-packages/pandas/core/frame.py\u001b[0m in \u001b[0;36m__init__\u001b[0;34m(self, data, index, columns, dtype, copy)\u001b[0m\n\u001b[1;32m    390\u001b[0m                                  dtype=dtype, copy=copy)\n\u001b[1;32m    391\u001b[0m         \u001b[0;32melif\u001b[0m \u001b[0misinstance\u001b[0m\u001b[0;34m(\u001b[0m\u001b[0mdata\u001b[0m\u001b[0;34m,\u001b[0m \u001b[0mdict\u001b[0m\u001b[0;34m)\u001b[0m\u001b[0;34m:\u001b[0m\u001b[0;34m\u001b[0m\u001b[0m\n\u001b[0;32m--> 392\u001b[0;31m             \u001b[0mmgr\u001b[0m \u001b[0;34m=\u001b[0m \u001b[0minit_dict\u001b[0m\u001b[0;34m(\u001b[0m\u001b[0mdata\u001b[0m\u001b[0;34m,\u001b[0m \u001b[0mindex\u001b[0m\u001b[0;34m,\u001b[0m \u001b[0mcolumns\u001b[0m\u001b[0;34m,\u001b[0m \u001b[0mdtype\u001b[0m\u001b[0;34m=\u001b[0m\u001b[0mdtype\u001b[0m\u001b[0;34m)\u001b[0m\u001b[0;34m\u001b[0m\u001b[0m\n\u001b[0m\u001b[1;32m    393\u001b[0m         \u001b[0;32melif\u001b[0m \u001b[0misinstance\u001b[0m\u001b[0;34m(\u001b[0m\u001b[0mdata\u001b[0m\u001b[0;34m,\u001b[0m \u001b[0mma\u001b[0m\u001b[0;34m.\u001b[0m\u001b[0mMaskedArray\u001b[0m\u001b[0;34m)\u001b[0m\u001b[0;34m:\u001b[0m\u001b[0;34m\u001b[0m\u001b[0m\n\u001b[1;32m    394\u001b[0m             \u001b[0;32mimport\u001b[0m \u001b[0mnumpy\u001b[0m\u001b[0;34m.\u001b[0m\u001b[0mma\u001b[0m\u001b[0;34m.\u001b[0m\u001b[0mmrecords\u001b[0m \u001b[0;32mas\u001b[0m \u001b[0mmrecords\u001b[0m\u001b[0;34m\u001b[0m\u001b[0m\n",
      "\u001b[0;32m/Users/sitarapersad/anaconda/lib/python3.6/site-packages/pandas/core/internals/construction.py\u001b[0m in \u001b[0;36minit_dict\u001b[0;34m(data, index, columns, dtype)\u001b[0m\n\u001b[1;32m    210\u001b[0m         \u001b[0marrays\u001b[0m \u001b[0;34m=\u001b[0m \u001b[0;34m[\u001b[0m\u001b[0mdata\u001b[0m\u001b[0;34m[\u001b[0m\u001b[0mk\u001b[0m\u001b[0;34m]\u001b[0m \u001b[0;32mfor\u001b[0m \u001b[0mk\u001b[0m \u001b[0;32min\u001b[0m \u001b[0mkeys\u001b[0m\u001b[0;34m]\u001b[0m\u001b[0;34m\u001b[0m\u001b[0m\n\u001b[1;32m    211\u001b[0m \u001b[0;34m\u001b[0m\u001b[0m\n\u001b[0;32m--> 212\u001b[0;31m     \u001b[0;32mreturn\u001b[0m \u001b[0marrays_to_mgr\u001b[0m\u001b[0;34m(\u001b[0m\u001b[0marrays\u001b[0m\u001b[0;34m,\u001b[0m \u001b[0mdata_names\u001b[0m\u001b[0;34m,\u001b[0m \u001b[0mindex\u001b[0m\u001b[0;34m,\u001b[0m \u001b[0mcolumns\u001b[0m\u001b[0;34m,\u001b[0m \u001b[0mdtype\u001b[0m\u001b[0;34m=\u001b[0m\u001b[0mdtype\u001b[0m\u001b[0;34m)\u001b[0m\u001b[0;34m\u001b[0m\u001b[0m\n\u001b[0m\u001b[1;32m    213\u001b[0m \u001b[0;34m\u001b[0m\u001b[0m\n\u001b[1;32m    214\u001b[0m \u001b[0;34m\u001b[0m\u001b[0m\n",
      "\u001b[0;32m/Users/sitarapersad/anaconda/lib/python3.6/site-packages/pandas/core/internals/construction.py\u001b[0m in \u001b[0;36marrays_to_mgr\u001b[0;34m(arrays, arr_names, index, columns, dtype)\u001b[0m\n\u001b[1;32m     49\u001b[0m     \u001b[0;31m# figure out the index, if necessary\u001b[0m\u001b[0;34m\u001b[0m\u001b[0;34m\u001b[0m\u001b[0m\n\u001b[1;32m     50\u001b[0m     \u001b[0;32mif\u001b[0m \u001b[0mindex\u001b[0m \u001b[0;32mis\u001b[0m \u001b[0;32mNone\u001b[0m\u001b[0;34m:\u001b[0m\u001b[0;34m\u001b[0m\u001b[0m\n\u001b[0;32m---> 51\u001b[0;31m         \u001b[0mindex\u001b[0m \u001b[0;34m=\u001b[0m \u001b[0mextract_index\u001b[0m\u001b[0;34m(\u001b[0m\u001b[0marrays\u001b[0m\u001b[0;34m)\u001b[0m\u001b[0;34m\u001b[0m\u001b[0m\n\u001b[0m\u001b[1;32m     52\u001b[0m     \u001b[0;32melse\u001b[0m\u001b[0;34m:\u001b[0m\u001b[0;34m\u001b[0m\u001b[0m\n\u001b[1;32m     53\u001b[0m         \u001b[0mindex\u001b[0m \u001b[0;34m=\u001b[0m \u001b[0mensure_index\u001b[0m\u001b[0;34m(\u001b[0m\u001b[0mindex\u001b[0m\u001b[0;34m)\u001b[0m\u001b[0;34m\u001b[0m\u001b[0m\n",
      "\u001b[0;32m/Users/sitarapersad/anaconda/lib/python3.6/site-packages/pandas/core/internals/construction.py\u001b[0m in \u001b[0;36mextract_index\u001b[0;34m(data)\u001b[0m\n\u001b[1;32m    315\u001b[0m             \u001b[0mlengths\u001b[0m \u001b[0;34m=\u001b[0m \u001b[0mlist\u001b[0m\u001b[0;34m(\u001b[0m\u001b[0mset\u001b[0m\u001b[0;34m(\u001b[0m\u001b[0mraw_lengths\u001b[0m\u001b[0;34m)\u001b[0m\u001b[0;34m)\u001b[0m\u001b[0;34m\u001b[0m\u001b[0m\n\u001b[1;32m    316\u001b[0m             \u001b[0;32mif\u001b[0m \u001b[0mlen\u001b[0m\u001b[0;34m(\u001b[0m\u001b[0mlengths\u001b[0m\u001b[0;34m)\u001b[0m \u001b[0;34m>\u001b[0m \u001b[0;36m1\u001b[0m\u001b[0;34m:\u001b[0m\u001b[0;34m\u001b[0m\u001b[0m\n\u001b[0;32m--> 317\u001b[0;31m                 \u001b[0;32mraise\u001b[0m \u001b[0mValueError\u001b[0m\u001b[0;34m(\u001b[0m\u001b[0;34m'arrays must all be same length'\u001b[0m\u001b[0;34m)\u001b[0m\u001b[0;34m\u001b[0m\u001b[0m\n\u001b[0m\u001b[1;32m    318\u001b[0m \u001b[0;34m\u001b[0m\u001b[0m\n\u001b[1;32m    319\u001b[0m             \u001b[0;32mif\u001b[0m \u001b[0mhave_dicts\u001b[0m\u001b[0;34m:\u001b[0m\u001b[0;34m\u001b[0m\u001b[0m\n",
      "\u001b[0;31mValueError\u001b[0m: arrays must all be same length"
     ]
    }
   ],
   "source": [
    "df = pd.DataFrame(results)\n",
    "df.head()\n",
    "\n",
    "# For a subsampled to 10,000 \n",
    "# For a typical cell - how many mutations does it have that are recurrent"
   ]
  },
  {
   "cell_type": "code",
   "execution_count": 326,
   "metadata": {
    "collapsed": false
   },
   "outputs": [
    {
     "data": {
      "image/png": "[encoded data removed]",
      "text/plain": [
       "<Figure size 432x288 with 1 Axes>"
      ]
     },
     "metadata": {},
     "output_type": "display_data"
    },
    {
     "data": {
      "image/png": "[encoded data removed]",
      "text/plain": [
       "<Figure size 432x288 with 1 Axes>"
      ]
     },
     "metadata": {},
     "output_type": "display_data"
    },
    {
     "data": {
      "image/png": "[encoded data removed]",
      "text/plain": [
       "<Figure size 432x288 with 1 Axes>"
      ]
     },
     "metadata": {},
     "output_type": "display_data"
    },
    {
     "data": {
      "image/png": "[encoded data removed]",
      "text/plain": [
       "<Figure size 432x288 with 1 Axes>"
      ]
     },
     "metadata": {},
     "output_type": "display_data"
    }
   ],
   "source": [
    "for y in ['Num_Edits', 'Min_depths', 'num_recurring', 'proportion_recurring']:\n",
    "    plt.figure()\n",
    "    ax = sns.boxplot(x='Guides', y=y, data=df) #, order=['PICASSO Iter final', 'PICASSO Iter 0', 'PICASSO Iter 1'])\n",
    "    plt.title(y)\n",
    "    plt.show()\n",
    "    plt.close()\n",
    "    \n"
   ]
  },
  {
   "cell_type": "code",
   "execution_count": 327,
   "metadata": {
    "collapsed": false
   },
   "outputs": [
    {
     "ename": "SyntaxError",
     "evalue": "invalid syntax (<ipython-input-327-994ec9de55b2>, line 1)",
     "output_type": "error",
     "traceback": [
      "\u001b[0;36m  File \u001b[0;32m\"<ipython-input-327-994ec9de55b2>\"\u001b[0;36m, line \u001b[0;32m1\u001b[0m\n\u001b[0;31m    3 targes/ array\u001b[0m\n\u001b[0m           ^\u001b[0m\n\u001b[0;31mSyntaxError\u001b[0m\u001b[0;31m:\u001b[0m invalid syntax\n"
     ]
    }
   ],
   "source": [
    "3 targets/ array\n",
    "10 arrays\n",
    "\n",
    "-> 30 sites \n",
    "\n",
    "# What fractions of the mutations are recurring\n",
    "\n",
    "\n",
    "\n",
    "CHARACTER \n",
    "introduction of a character is a mutation\n",
    "\n",
    "\n",
    "\n"
   ]
  },
  {
   "cell_type": "code",
   "execution_count": 328,
   "metadata": {
    "collapsed": false
   },
   "outputs": [
    {
     "data": {
      "text/plain": [
       "torch.Size([30, 347])"
      ]
     },
     "execution_count": 328,
     "metadata": {},
     "output_type": "execute_result"
    }
   ],
   "source": [
    "deletions_weights.shape"
   ]
  },
  {
   "cell_type": "code",
   "execution_count": 368,
   "metadata": {
    "collapsed": false
   },
   "outputs": [
    {
     "data": {
      "text/plain": [
       "7.0"
      ]
     },
     "execution_count": 368,
     "metadata": {},
     "output_type": "execute_result"
    }
   ],
   "source": [
    "def lineage_to_index(ii):\n",
    "    ii = str(ii)\n",
    "    L = 2**len(ii)\n",
    "    index = 0\n",
    "    for i, entry in enumerate(list(ii)):\n",
    "        index += L/(2**(i+1)) * int(entry) \n",
    "    return index \n",
    "\n",
    "lineage_to_index(111)"
   ]
  },
  {
   "cell_type": "code",
   "execution_count": null,
   "metadata": {
    "collapsed": true
   },
   "outputs": [],
   "source": [
    "000 001 010 011 100 101 110 111\n",
    "\n",
    "00 01 10 11 "
   ]
  }
 ],
 "metadata": {
  "kernelspec": {
   "display_name": "Python 3",
   "language": "python",
   "name": "python3"
  },
  "language_info": {
   "codemirror_mode": {
    "name": "ipython",
    "version": 3
   },
   "file_extension": ".py",
   "mimetype": "text/x-python",
   "name": "python",
   "nbconvert_exporter": "python",
   "pygments_lexer": "ipython3",
   "version": "3.6.6"
  }
 },
 "nbformat": 4,
 "nbformat_minor": 2
}
