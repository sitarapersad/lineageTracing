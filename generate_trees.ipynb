{
 "cells": [
  {
   "cell_type": "markdown",
   "metadata": {},
   "source": [
    "# Imports"
   ]
  },
  {
   "cell_type": "code",
   "execution_count": 6,
   "metadata": {},
   "outputs": [],
   "source": [
    "import numpy as np\n",
    "import pandas as pd\n",
    "import networkx as nx\n",
    "import ete3"
   ]
  },
  {
   "cell_type": "markdown",
   "metadata": {},
   "source": [
    "# Helper functions for simulation"
   ]
  },
  {
   "cell_type": "code",
   "execution_count": 7,
   "metadata": {},
   "outputs": [],
   "source": [
    "def simulate_imbalanced_tree(num_init_cells, init_death_prob = 0.1, init_repr_prob = 0.75, cancer_prob = 1e-3, tree_depth=15):\n",
    "    num_cells = num_init_cells\n",
    "    death_probs = [init_death_prob]*num_cells\n",
    "    repr_probs = [init_repr_prob]*num_cells\n",
    "\n",
    "\n",
    "    init_cells = [str(i) for i in np.arange(num_cells)]\n",
    "    parent_ix = []\n",
    "    cell_names = [np.array(init_cells)]\n",
    "    repetition_coefs_list = []\n",
    "\n",
    "    for i in range(tree_depth):\n",
    "        dying = np.random.random(num_cells) < death_probs\n",
    "        mutating = np.random.random(num_cells) < repr_probs\n",
    "\n",
    "        repetition_coefs = (mutating+1)*(1-dying)\n",
    "\n",
    "        repetition_coefs_list.append(repetition_coefs)\n",
    "        next_gen = np.repeat(init_cells, repetition_coefs)\n",
    "        \n",
    "        if len(next_gen) == 0:\n",
    "            raise Exception('No cells left to replicate. Terminate simulation.')\n",
    "        # Label generation in terms of binary split with parents\n",
    "        binary_labels = [next_gen[i]+'1' if next_gen[i-1]==next_gen[i] else next_gen[i]+'0' for i in range(1, len(next_gen))]\n",
    "        binary_labels = [next_gen[0]+'0'] + binary_labels\n",
    "        cell_names.append(np.array(binary_labels))\n",
    "        parent_ix.append(np.repeat(np.arange(num_cells), repetition_coefs))\n",
    "\n",
    "        death_probs = np.repeat(death_probs , repetition_coefs)\n",
    "        repr_probs = np.repeat(repr_probs , repetition_coefs)\n",
    "\n",
    "        num_cells = sum(repetition_coefs)\n",
    "        \n",
    "        init_cells = binary_labels\n",
    "\n",
    "        # Introduce cancerous mutations which may increase tumour fitness\n",
    "        has_cancer = np.random.random(num_cells) < cancer_prob\n",
    "        death_probs[has_cancer] -= 1e-2\n",
    "        repr_probs[has_cancer] += 1e-2\n",
    "\n",
    "    return cell_names\n"
   ]
  },
  {
   "cell_type": "code",
   "execution_count": 8,
   "metadata": {},
   "outputs": [],
   "source": [
    "def generate_cassettes(num_cells, cassette_size, mutation_probs=None, deletion_probs=None):\n",
    "    \"\"\"\n",
    "    CRISPR edits are independent of each other. Each edit site has some probability of being modified or being deleted\n",
    "    The only dependence between cells is that a site which has already been edited or deleted cannot be edited or deleted again\n",
    "\n",
    "    We can a priori simulate CRISPR edits for a given number of cells and then attach these edits to cells in the lineage \n",
    "    independently of one another as vector operations for speed up\n",
    "\n",
    "    @param: num_cells (int) - Number of cells for which we should simulate CRISPR recording cassettes\n",
    "    @param: cassette_size (int) - Number of sites where CRISPR edits can occur\n",
    "    \"\"\"\n",
    "    \n",
    "    print('THIS IS A PLACEHOLDER FOR THE REAL CASSETTE FUNCTION. CHANGE THIS!')\n",
    "    \n",
    "    cassette_edits = np.random.randint(low=-1, high=100, size=(total_internal_nodes, cassette_size))\n",
    "\n",
    "    indices = np.random.choice(np.arange(cassette_edits.size), replace=False,\n",
    "                               size=int(cassette_edits.size * 0.8))\n",
    "    cassette_edits[np.unravel_index(indices, cassette_edits.shape)]= 0\n",
    "    return (cassette_edits.tolist())\n"
   ]
  },
  {
   "cell_type": "code",
   "execution_count": 9,
   "metadata": {},
   "outputs": [],
   "source": [
    "def graph_to_ete3(G):\n",
    "    \"\"\"\n",
    "    Convert networkx DiGraph to ete3 tree\n",
    "    \"\"\"\n",
    "    import ete3, itertools\n",
    "    root = \"ROOT\"\n",
    "    subtrees = {node:ete3.Tree(name=node) for node in G.nodes()}\n",
    "    [*map(lambda edge:subtrees[edge[0]].add_child(subtrees[edge[1]]), G.edges())]\n",
    "    tree = subtrees[root]\n",
    "    return tree\n"
   ]
  },
  {
   "cell_type": "code",
   "execution_count": 14,
   "metadata": {},
   "outputs": [],
   "source": [
    "def generate_lineage(cell_names, cassette_edits):\n",
    "    \"\"\"\n",
    "    Given binary names of cells in a subsample tree and corresponding CRISPR edits for each cell,\n",
    "    construct a networkx graph representing parental lineages and accumulated CRISPR edits.\n",
    "    \"\"\"\n",
    "    lineage = nx.DiGraph()\n",
    "    cassette_size = len(cassette_edits[0])\n",
    "    blank_cassette = [0]*cassette_size\n",
    "    for generation, cells in enumerate(cell_names):\n",
    "        for cell in cells:\n",
    "\n",
    "            lineage.add_node(cell, generation=generation, cassette_state=np.array(blank_cassette), crispr_edit=blank_cassette)\n",
    "            if len(cell) == 1:\n",
    "                # Then this cell has no real parent\n",
    "                lineage.add_edge(\"ROOT\",cell)\n",
    "                crispr_edit = np.array(cassette_edits.pop())\n",
    "                lineage.nodes[cell]['crispr_edit'] = crispr_edit\n",
    "                lineage.nodes[cell]['cassette_state'] = crispr_edit\n",
    "                continue\n",
    "            # Add an adge between parent node and recently added child\n",
    "            parent = cell[:-1]\n",
    "            lineage.add_edge(parent,cell)\n",
    "\n",
    "\n",
    "            # Sample a crispr edit for this cell\n",
    "            crispr_edit = np.array(cassette_edits.pop())\n",
    "            # Sites which are already edited in lineage are forbidden to be edited again \n",
    "            parent_state = lineage.nodes()[parent]['cassette_state']\n",
    "            crispr_edit[parent_state!=0]=0\n",
    "\n",
    "            lineage.nodes[cell]['crispr_edit'] = crispr_edit\n",
    "            lineage.nodes[cell]['cassette_state'] = crispr_edit+parent_state\n",
    "\n",
    "\n",
    "    return lineage"
   ]
  },
  {
   "cell_type": "markdown",
   "metadata": {},
   "source": [
    "# Run lineage tracing simulation"
   ]
  },
  {
   "cell_type": "code",
   "execution_count": 15,
   "metadata": {},
   "outputs": [
    {
     "name": "stdout",
     "output_type": "stream",
     "text": [
      "THIS IS A PLACEHOLD FOR THE REAL CASSETTE FUNCTION. CHANGE THIS!\n",
      "\n",
      "                 /-00000\n",
      "             /0000\n",
      "            |   |     /-000010\n",
      "            |    \\00001\n",
      "          /000        \\-000011\n",
      "         |  |\n",
      "         |  |         /-000100\n",
      "         |   \\000100010\n",
      "         |            \\-000101\n",
      "         |\n",
      "       /00            /-001000\n",
      "      |  |       /00100\n",
      "      |  |      |     \\-001001\n",
      "      |  |   /0010\n",
      "      |  |  |   |     /-001010\n",
      "      |  |  |    \\00101\n",
      "      |   \\001        \\-001011\n",
      "      |     |\n",
      "      |     |         /-001100\n",
      "    /0|     |    /00110\n",
      "   |  |      \\0011    \\-001101\n",
      "   |  |         |\n",
      "   |  |          \\-00111\n",
      "   |  |\n",
      "   |  |               /-010000\n",
      "   |  |          /01000\n",
      "   |  |   /0100100    \\-010001\n",
      "   |  |  |      |\n",
      "   |  |  |       \\01001-010010\n",
      "   |   \\01\n",
      "   |     |            /-011000\n",
      "   |     |   /011001100\n",
      "   |     |  |         \\-011001\n",
      "   |      \\011\n",
      "-ROOT       |         /-011100\n",
      "   |        |    /01110\n",
      "   |         \\0111    \\-011101\n",
      "   |            |\n",
      "   |             \\-01111\n",
      "   |\n",
      "   |                  /-100000\n",
      "   |      /100100010000\n",
      "   |     |            \\-100001\n",
      "   |     |\n",
      "   |   /10       /10100-101000\n",
      "   |  |  |   /1010\n",
      "   |  |  |  |   |     /-101010\n",
      "   |  |   \\101   \\10101\n",
      "   |  |     |         \\-101011\n",
      "    \\1|     |\n",
      "      |      \\101110110-101100\n",
      "      |\n",
      "      |               /-110000\n",
      "      |          /11000\n",
      "       \\11/1101100    \\-110001\n",
      "                |\n",
      "                 \\11001-110010\n"
     ]
    }
   ],
   "source": [
    "cell_names = simulate_imbalanced_tree(num_init_cells=2, init_death_prob = 0.1, init_repr_prob = 0.75, cancer_prob = 1e-3, tree_depth=5)\n",
    "\n",
    "# Generate cassette edits for each internal node\n",
    "total_internal_nodes = sum([len(x) for x in cell_names])\n",
    "cassette_edits = generate_cassettes(total_internal_nodes, cassette_size=5)\n",
    "\n",
    "# Generate networkx lineage object\n",
    "lineage = generate_lineage(cell_names, cassette_edits)\n",
    "tree = graph_to_ete3(lineage)\n",
    "\n",
    "\n",
    "print(tree.get_ascii())\n",
    "    "
   ]
  },
  {
   "cell_type": "markdown",
   "metadata": {},
   "source": [
    "# Manipulating lineage graphs"
   ]
  },
  {
   "cell_type": "code",
   "execution_count": null,
   "metadata": {},
   "outputs": [],
   "source": [
    "def get_character_matrix(lineage):\n",
    "    \"\"\"\n",
    "    Return pd.DataFrame containing character matrix - maps cell IDs of leaf nodes to CRISPR edits. \n",
    "    \"\"\"\n",
    "    \n",
    "    raise NotImplementedError\n",
    "    \n",
    "def drop_missing_data(lineage, missing_fraction):\n",
    "    \"\"\"\n",
    "    Generate a copy of the lineage graph with missing data (represented as '-' in character matrix)\n",
    "    \"\"\"\n",
    "    \n",
    "    raise NotImplementedError\n",
    "    \n",
    "def save(lineage):\n",
    "    \"\"\"\n",
    "    Save a copy of lineage networkx DiGraph is some easily read form\n",
    "    \"\"\"\n",
    "    \n",
    "    raise NotImplementedError\n",
    "    \n",
    "    "
   ]
  },
  {
   "cell_type": "code",
   "execution_count": null,
   "metadata": {},
   "outputs": [],
   "source": [
    "\n"
   ]
  },
  {
   "cell_type": "markdown",
   "metadata": {},
   "source": [
    "# Benchmark against Cassiopeia\n",
    "\n",
    "Cassiopeia should be able to read in both networkx trees and ete3 trees. See if you can generate some imbalanced trees, quantify how imbalanced they are (some sort of distribution of tree depths or something like that?) and record the performance of NJ vs Cassiopeia vs Scelestical\n",
    "\n",
    "Also test these as a function of missing data "
   ]
  },
  {
   "cell_type": "code",
   "execution_count": null,
   "metadata": {},
   "outputs": [],
   "source": []
  }
 ],
 "metadata": {
  "kernelspec": {
   "display_name": "Python 3",
   "language": "python",
   "name": "python3"
  },
  "language_info": {
   "codemirror_mode": {
    "name": "ipython",
    "version": 3
   },
   "file_extension": ".py",
   "mimetype": "text/x-python",
   "name": "python",
   "nbconvert_exporter": "python",
   "pygments_lexer": "ipython3",
   "version": "3.8.3"
  }
 },
 "nbformat": 4,
 "nbformat_minor": 4
}
