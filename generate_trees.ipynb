{
 "cells": [
  {
   "cell_type": "markdown",
   "metadata": {},
   "source": [
    "# Imports"
   ]
  },
  {
   "cell_type": "code",
   "execution_count": 1,
   "metadata": {},
   "outputs": [],
   "source": [
    "import numpy as np\n",
    "import pandas as pd\n",
    "import networkx as nx\n",
    "import ete3\n",
    "import cassiopeia as cas"
   ]
  },
  {
   "cell_type": "markdown",
   "metadata": {},
   "source": [
    "# Helper functions for simulation"
   ]
  },
  {
   "cell_type": "code",
   "execution_count": 2,
   "metadata": {},
   "outputs": [],
   "source": [
    "def simulate_imbalanced_tree(num_init_cells, init_death_prob=0.1, init_repr_prob=0.75,\n",
    "                             cancer_prob=1e-3, tree_depth=15):\n",
    "    num_cells = num_init_cells\n",
    "    death_probs = [init_death_prob] * num_cells\n",
    "    repr_probs = [init_repr_prob] * num_cells\n",
    "\n",
    "    init_cells = [str(i) for i in np.arange(num_cells)]\n",
    "    parent_ix = []\n",
    "    cell_names = [np.array(init_cells)]\n",
    "    repetition_coefs_list = []\n",
    "\n",
    "    for i in range(tree_depth):\n",
    "        dying = np.random.random(num_cells) < death_probs\n",
    "        mutating = np.random.random(num_cells) < repr_probs\n",
    "\n",
    "        repetition_coefs = (mutating+1)*(1-dying)\n",
    "\n",
    "        repetition_coefs_list.append(repetition_coefs)\n",
    "        next_gen = np.repeat(init_cells, repetition_coefs)\n",
    "\n",
    "        if len(next_gen) == 0:\n",
    "            raise Exception('No cells left to replicate. Terminate simulation.')\n",
    "        # Label generation in terms of binary split with parents\n",
    "        binary_labels = [next_gen[i]+'1' if next_gen[i-1] == next_gen[i] else\n",
    "                         next_gen[i]+'0' for i in range(1, len(next_gen))]\n",
    "        binary_labels = [next_gen[0]+'0'] + binary_labels\n",
    "        cell_names.append(np.array(binary_labels))\n",
    "        parent_ix.append(np.repeat(np.arange(num_cells), repetition_coefs))\n",
    "\n",
    "        death_probs = np.repeat(death_probs, repetition_coefs)\n",
    "        repr_probs = np.repeat(repr_probs, repetition_coefs)\n",
    "\n",
    "        num_cells = sum(repetition_coefs)\n",
    "\n",
    "        init_cells = binary_labels\n",
    "\n",
    "        # Introduce cancerous mutations which may increase tumour fitness\n",
    "        has_cancer = np.random.random(num_cells) < cancer_prob\n",
    "        death_probs[has_cancer] -= 1e-2\n",
    "        repr_probs[has_cancer] += 1e-2\n",
    "\n",
    "    return cell_names"
   ]
  },
  {
   "cell_type": "code",
   "execution_count": 3,
   "metadata": {},
   "outputs": [],
   "source": [
    "def generate_cassettes(num_cells, cassette_size, mutation_probs=None, deletion_probs=None):\n",
    "    \"\"\"\n",
    "    CRISPR edits are independent of each other. Each edit site has some probability of being modified or being deleted\n",
    "    The only dependence between cells is that a site which has already been edited or deleted cannot be edited or deleted again\n",
    "\n",
    "    We can a priori simulate CRISPR edits for a given number of cells and then attach these edits to cells in the lineage\n",
    "    independently of one another as vector operations for speed up\n",
    "\n",
    "    @param: num_cells (int) - Number of cells for which we should simulate CRISPR recording cassettes\n",
    "    @param: cassette_size (int) - Number of sites where CRISPR edits can occur\n",
    "    \"\"\"\n",
    "\n",
    "    print('THIS IS A PLACEHOLDER FOR THE REAL CASSETTE FUNCTION. CHANGE THIS!')\n",
    "\n",
    "    total_internal_nodes = num_cells  # Is this right? Previously total_internal_nodes was not defined here\n",
    "\n",
    "    cassette_edits = np.random.randint(low=-1, high=100, size=(total_internal_nodes, cassette_size))\n",
    "\n",
    "    indices = np.random.choice(np.arange(cassette_edits.size), replace=False,\n",
    "                               size=int(cassette_edits.size * 0.8))\n",
    "    cassette_edits[np.unravel_index(indices, cassette_edits.shape)] = 0\n",
    "    return (cassette_edits.tolist())"
   ]
  },
  {
   "cell_type": "code",
   "execution_count": 4,
   "metadata": {},
   "outputs": [],
   "source": [
    "def graph_to_ete3(G):\n",
    "    \"\"\"\n",
    "    Convert networkx DiGraph to ete3 tree\n",
    "    \"\"\"\n",
    "    import ete3\n",
    "    import itertools\n",
    "    root = \"ROOT\"\n",
    "    subtrees = {node:ete3.Tree(name=node) for node in G.nodes()}\n",
    "    [*map(lambda edge:subtrees[edge[0]].add_child(subtrees[edge[1]]), G.edges())]\n",
    "    tree = subtrees[root]\n",
    "    return tree\n",
    "\n",
    "\n",
    "def copy_attributes(nxgraph, ete3tree):\n",
    "    for name, node in nxgraph.nodes.items():\n",
    "        copy = ete3tree & name  # get first node matching the name\n",
    "        for feature, data in node.items():\n",
    "            copy.add_feature(feature, data)\n",
    "    return ete3tree"
   ]
  },
  {
   "cell_type": "code",
   "execution_count": 5,
   "metadata": {},
   "outputs": [],
   "source": [
    "def generate_lineage(cell_names, cassette_edits):\n",
    "    \"\"\"\n",
    "    Given binary names of cells in a subsample tree and corresponding CRISPR edits for each cell,\n",
    "    construct a networkx graph representing parental lineages and accumulated CRISPR edits.\n",
    "    \"\"\"\n",
    "    lineage = nx.DiGraph()\n",
    "    cassette_size = len(cassette_edits[0])\n",
    "    blank_cassette = [0]*cassette_size\n",
    "    for generation, cells in enumerate(cell_names):\n",
    "        for cell in cells:\n",
    "\n",
    "            lineage.add_node(cell, generation=generation, cassette_state=np.array(blank_cassette), crispr_edit=blank_cassette)\n",
    "            if len(cell) == 1:\n",
    "                # Then this cell has no real parent\n",
    "                lineage.add_edge(\"ROOT\", cell)\n",
    "                crispr_edit = np.array(cassette_edits.pop())\n",
    "                lineage.nodes[cell]['crispr_edit'] = crispr_edit\n",
    "                lineage.nodes[cell]['cassette_state'] = crispr_edit\n",
    "                continue\n",
    "            # Add an adge between parent node and recently added child\n",
    "            parent = cell[:-1]\n",
    "            lineage.add_edge(parent, cell)\n",
    "\n",
    "            # Sample a crispr edit for this cell\n",
    "            crispr_edit = np.array(cassette_edits.pop())\n",
    "            # Sites which are already edited in lineage are forbidden to be edited again\n",
    "            parent_state = lineage.nodes()[parent]['cassette_state']\n",
    "            crispr_edit[parent_state != 0] = 0\n",
    "\n",
    "            lineage.nodes[cell]['crispr_edit'] = crispr_edit\n",
    "            lineage.nodes[cell]['cassette_state'] = crispr_edit+parent_state\n",
    "\n",
    "    return lineage"
   ]
  },
  {
   "cell_type": "code",
   "execution_count": 6,
   "metadata": {},
   "outputs": [],
   "source": [
    "def simulate_lineage(cassette_size, num_init_cells, init_death_prob=0.1,\n",
    "                     init_repr_prob=0.75, cancer_prob=1e-3, tree_depth=15):\n",
    "\n",
    "    # Simulate tree\n",
    "    cell_names = simulate_imbalanced_tree(num_init_cells=num_init_cells, init_death_prob=init_death_prob,\n",
    "                                          init_repr_prob=init_repr_prob, cancer_prob=cancer_prob,\n",
    "                                          tree_depth=tree_depth)\n",
    "\n",
    "    # Generate cassette edits for each internal node\n",
    "    total_internal_nodes = sum([len(x) for x in cell_names])\n",
    "    cassette_edits = generate_cassettes(total_internal_nodes, cassette_size=cassette_size)\n",
    "\n",
    "    # Generate networkx lineage object\n",
    "    lineage = generate_lineage(cell_names, cassette_edits)\n",
    "    return lineage"
   ]
  },
  {
   "cell_type": "code",
   "execution_count": 7,
   "metadata": {},
   "outputs": [],
   "source": [
    "def drop_missing_data(lineage, missing_fraction):\n",
    "    \"\"\"\n",
    "    Generate a copy of the lineage graph with missing data (represented as '-' in character matrix)\n",
    "    \"\"\"\n",
    "    # assuming networkx tree:\n",
    "    for node in lineage.nodes.values():\n",
    "        if 'cassette_state' in node:\n",
    "            state = list(node['cassette_state'])\n",
    "            for i in range(len(state)):\n",
    "                if(np.random.random() < missing_fraction):\n",
    "                    state[i] = '-'\n",
    "            node['cassette_state'] = state"
   ]
  },
  {
   "cell_type": "markdown",
   "metadata": {},
   "source": [
    "# Run lineage tracing simulation"
   ]
  },
  {
   "cell_type": "code",
   "execution_count": 124,
   "metadata": {},
   "outputs": [
    {
     "name": "stdout",
     "output_type": "stream",
     "text": [
      "THIS IS A PLACEHOLDER FOR THE REAL CASSETTE FUNCTION. CHANGE THIS!\n",
      "\n",
      "                 /00000-000000\n",
      "          /0000000\n",
      "         |      |     /-000010\n",
      "       /00       \\00001\n",
      "      |  |            \\-000011\n",
      "      |  |\n",
      "    /0|   \\-001\n",
      "   |  |\n",
      "   |  |   /-010\n",
      "   |   \\01\n",
      "-ROOT    |            /-011000\n",
      "   |      \\011011001100\n",
      "   |                  \\-011001\n",
      "   |\n",
      "    \\-1\n"
     ]
    }
   ],
   "source": [
    "lineage = simulate_lineage(cassette_size=5, num_init_cells=2, init_death_prob=0.1,\n",
    "                           init_repr_prob=0.75, cancer_prob=1e-3, tree_depth=5)\n",
    "\n",
    "# for name, cell in lineage.nodes.items():\n",
    "#    print(name)\n",
    "#    if 'cassette_state' in cell.keys():\n",
    "#        print(cell['cassette_state'])\n",
    "\n",
    "drop_missing_data(lineage, 0.2)\n",
    "tree = graph_to_ete3(lineage)\n",
    "tree = copy_attributes(lineage, tree)\n",
    "print(tree.get_ascii())"
   ]
  },
  {
   "cell_type": "markdown",
   "metadata": {},
   "source": [
    "# Manipulating lineage graphs"
   ]
  },
  {
   "cell_type": "code",
   "execution_count": 9,
   "metadata": {},
   "outputs": [],
   "source": [
    "def get_character_matrix(lineage):\n",
    "    \"\"\"\n",
    "    Return pd.DataFrame containing character matrix - maps cell IDs of leaf nodes to CRISPR edits.\n",
    "    \"\"\"\n",
    "    # assuming ete3 tree:\n",
    "    leaves = lineage.get_leaves()\n",
    "    names = [str(leaf.name) for leaf in leaves]\n",
    "    cassette_states = [leaf.cassette_state for leaf in leaves]\n",
    "    df = pd.DataFrame(data=cassette_states, columns=list(range(0, 5)))\n",
    "    df.insert(0, 'name', names)\n",
    "    df = df.set_index('name')\n",
    "    return df\n",
    "\n",
    "\n",
    "def annotate_depths(lineage):\n",
    "    # assuming ete3 tree\n",
    "    for node in lineage.traverse(\"preorder\"):\n",
    "        if node.is_root():\n",
    "            node.add_feature('depth', 0)\n",
    "        else:\n",
    "            node.add_feature('depth', node.up.depth+1)\n",
    "\n",
    "\n",
    "def measure_imbalance(lineage):\n",
    "    # assuming ete3 tree\n",
    "    annotate_depths(lineage)\n",
    "    leaf_depths = []\n",
    "    for node in lineage.get_leaves():\n",
    "        leaf_depths.append(node.depth)\n",
    "    return max(leaf_depths) - min(leaf_depths)\n",
    "\n",
    "\n",
    "def save(lineage):\n",
    "    \"\"\"\n",
    "    Save a copy of lineage networkx DiGraph is some easily read form\n",
    "    \"\"\"\n",
    "\n",
    "    raise NotImplementedError"
   ]
  },
  {
   "cell_type": "code",
   "execution_count": 10,
   "metadata": {},
   "outputs": [
    {
     "data": {
      "text/html": [
       "<div>\n",
       "<style scoped>\n",
       "    .dataframe tbody tr th:only-of-type {\n",
       "        vertical-align: middle;\n",
       "    }\n",
       "\n",
       "    .dataframe tbody tr th {\n",
       "        vertical-align: top;\n",
       "    }\n",
       "\n",
       "    .dataframe thead th {\n",
       "        text-align: right;\n",
       "    }\n",
       "</style>\n",
       "<table border=\"1\" class=\"dataframe\">\n",
       "  <thead>\n",
       "    <tr style=\"text-align: right;\">\n",
       "      <th></th>\n",
       "      <th>0</th>\n",
       "      <th>1</th>\n",
       "      <th>2</th>\n",
       "      <th>3</th>\n",
       "      <th>4</th>\n",
       "    </tr>\n",
       "    <tr>\n",
       "      <th>name</th>\n",
       "      <th></th>\n",
       "      <th></th>\n",
       "      <th></th>\n",
       "      <th></th>\n",
       "      <th></th>\n",
       "    </tr>\n",
       "  </thead>\n",
       "  <tbody>\n",
       "    <tr>\n",
       "      <th>000</th>\n",
       "      <td>0</td>\n",
       "      <td>48</td>\n",
       "      <td>25</td>\n",
       "      <td>72</td>\n",
       "      <td>0</td>\n",
       "    </tr>\n",
       "    <tr>\n",
       "      <th>00100</th>\n",
       "      <td>55</td>\n",
       "      <td>69</td>\n",
       "      <td>-</td>\n",
       "      <td>72</td>\n",
       "      <td>0</td>\n",
       "    </tr>\n",
       "    <tr>\n",
       "      <th>001100</th>\n",
       "      <td>-</td>\n",
       "      <td>69</td>\n",
       "      <td>0</td>\n",
       "      <td>-</td>\n",
       "      <td>0</td>\n",
       "    </tr>\n",
       "    <tr>\n",
       "      <th>001101</th>\n",
       "      <td>95</td>\n",
       "      <td>-</td>\n",
       "      <td>0</td>\n",
       "      <td>72</td>\n",
       "      <td>-</td>\n",
       "    </tr>\n",
       "    <tr>\n",
       "      <th>001110</th>\n",
       "      <td>95</td>\n",
       "      <td>69</td>\n",
       "      <td>0</td>\n",
       "      <td>72</td>\n",
       "      <td>98</td>\n",
       "    </tr>\n",
       "  </tbody>\n",
       "</table>\n",
       "</div>"
      ],
      "text/plain": [
       "         0   1   2   3   4\n",
       "name                      \n",
       "000      0  48  25  72   0\n",
       "00100   55  69   -  72   0\n",
       "001100   -  69   0   -   0\n",
       "001101  95   -   0  72   -\n",
       "001110  95  69   0  72  98"
      ]
     },
     "execution_count": 10,
     "metadata": {},
     "output_type": "execute_result"
    }
   ],
   "source": [
    "matrix = get_character_matrix(tree)\n",
    "matrix.head()"
   ]
  },
  {
   "cell_type": "markdown",
   "metadata": {},
   "source": [
    "# Benchmark against Cassiopeia\n",
    "\n",
    "Cassiopeia should be able to read in both networkx trees and ete3 trees. See if you can generate some imbalanced trees, quantify how imbalanced they are (some sort of distribution of tree depths or something like that?) and record the performance of NJ vs Cassiopeia vs Scelestical\n",
    "\n",
    "Also test these as a function of missing data "
   ]
  },
  {
   "cell_type": "code",
   "execution_count": 11,
   "metadata": {},
   "outputs": [
    {
     "data": {
      "text/html": [
       "<div>\n",
       "<style scoped>\n",
       "    .dataframe tbody tr th:only-of-type {\n",
       "        vertical-align: middle;\n",
       "    }\n",
       "\n",
       "    .dataframe tbody tr th {\n",
       "        vertical-align: top;\n",
       "    }\n",
       "\n",
       "    .dataframe thead th {\n",
       "        text-align: right;\n",
       "    }\n",
       "</style>\n",
       "<table border=\"1\" class=\"dataframe\">\n",
       "  <thead>\n",
       "    <tr style=\"text-align: right;\">\n",
       "      <th></th>\n",
       "      <th>0</th>\n",
       "      <th>1</th>\n",
       "      <th>2</th>\n",
       "      <th>3</th>\n",
       "      <th>4</th>\n",
       "    </tr>\n",
       "    <tr>\n",
       "      <th>name</th>\n",
       "      <th></th>\n",
       "      <th></th>\n",
       "      <th></th>\n",
       "      <th></th>\n",
       "      <th></th>\n",
       "    </tr>\n",
       "  </thead>\n",
       "  <tbody>\n",
       "    <tr>\n",
       "      <th>000</th>\n",
       "      <td>0</td>\n",
       "      <td>48</td>\n",
       "      <td>25</td>\n",
       "      <td>72</td>\n",
       "      <td>0</td>\n",
       "    </tr>\n",
       "    <tr>\n",
       "      <th>00100</th>\n",
       "      <td>55</td>\n",
       "      <td>69</td>\n",
       "      <td>-1</td>\n",
       "      <td>72</td>\n",
       "      <td>0</td>\n",
       "    </tr>\n",
       "    <tr>\n",
       "      <th>001100</th>\n",
       "      <td>-1</td>\n",
       "      <td>69</td>\n",
       "      <td>0</td>\n",
       "      <td>-1</td>\n",
       "      <td>0</td>\n",
       "    </tr>\n",
       "    <tr>\n",
       "      <th>001101</th>\n",
       "      <td>95</td>\n",
       "      <td>-1</td>\n",
       "      <td>0</td>\n",
       "      <td>72</td>\n",
       "      <td>-1</td>\n",
       "    </tr>\n",
       "    <tr>\n",
       "      <th>001110</th>\n",
       "      <td>95</td>\n",
       "      <td>69</td>\n",
       "      <td>0</td>\n",
       "      <td>72</td>\n",
       "      <td>98</td>\n",
       "    </tr>\n",
       "  </tbody>\n",
       "</table>\n",
       "</div>"
      ],
      "text/plain": [
       "         0   1   2   3   4\n",
       "name                      \n",
       "000      0  48  25  72   0\n",
       "00100   55  69  -1  72   0\n",
       "001100  -1  69   0  -1   0\n",
       "001101  95  -1   0  72  -1\n",
       "001110  95  69   0  72  98"
      ]
     },
     "execution_count": 11,
     "metadata": {},
     "output_type": "execute_result"
    }
   ],
   "source": [
    "def cass_char_matrix(char_matrix):\n",
    "    char_matrix = char_matrix.replace('-', '-1')\n",
    "    for column in char_matrix.columns:\n",
    "        char_matrix[column] = char_matrix[column].astype(int)\n",
    "    return char_matrix\n",
    "\n",
    "\n",
    "matrix = cass_char_matrix(matrix)\n",
    "matrix.head()"
   ]
  },
  {
   "cell_type": "code",
   "execution_count": 12,
   "metadata": {},
   "outputs": [],
   "source": [
    "# base truth tree:\n",
    "truth_tree = cas.data.CassiopeiaTree(character_matrix=matrix, tree=lineage)"
   ]
  },
  {
   "cell_type": "code",
   "execution_count": 13,
   "metadata": {},
   "outputs": [
    {
     "name": "stdout",
     "output_type": "stream",
     "text": [
      "{0: {0: 0.3333333333333333, 95: 0.25, 71: 0.16666666666666666, 55: 0.08333333333333333, 46: 0.08333333333333333, 30: 0.08333333333333333}, 1: {69: 0.2857142857142857, 51: 0.21428571428571427, 32: 0.21428571428571427, 46: 0.14285714285714285, 48: 0.07142857142857142, 36: 0.07142857142857142}, 2: {0: 0.3333333333333333, 53: 0.3333333333333333, 1: 0.25, 25: 0.08333333333333333}, 3: {72: 0.38461538461538464, 23: 0.38461538461538464, 0: 0.23076923076923078}, 4: {57: 0.38461538461538464, 0: 0.3076923076923077, 98: 0.15384615384615385, 27: 0.15384615384615385}}\n"
     ]
    }
   ],
   "source": [
    "def compute_priors(char_matrix):\n",
    "    priors = {}\n",
    "    for i in range(len(char_matrix.columns)):\n",
    "        count = char_matrix[i].value_counts()\n",
    "        if -1 in count:\n",
    "            del(count[-1])\n",
    "        freq = count/sum(count)\n",
    "        priors[i] = freq.to_dict()\n",
    "    return priors\n",
    "\n",
    "\n",
    "priors = compute_priors(matrix)\n",
    "print(priors)"
   ]
  },
  {
   "cell_type": "code",
   "execution_count": 14,
   "metadata": {},
   "outputs": [],
   "source": [
    "cas_tree = cas.data.CassiopeiaTree(character_matrix=matrix, priors=priors, missing_state_indicator=-1)"
   ]
  },
  {
   "cell_type": "code",
   "execution_count": 15,
   "metadata": {},
   "outputs": [
    {
     "data": {
      "text/html": [
       "<div>\n",
       "<style scoped>\n",
       "    .dataframe tbody tr th:only-of-type {\n",
       "        vertical-align: middle;\n",
       "    }\n",
       "\n",
       "    .dataframe tbody tr th {\n",
       "        vertical-align: top;\n",
       "    }\n",
       "\n",
       "    .dataframe thead th {\n",
       "        text-align: right;\n",
       "    }\n",
       "</style>\n",
       "<table border=\"1\" class=\"dataframe\">\n",
       "  <thead>\n",
       "    <tr style=\"text-align: right;\">\n",
       "      <th></th>\n",
       "      <th>0</th>\n",
       "      <th>1</th>\n",
       "      <th>2</th>\n",
       "      <th>3</th>\n",
       "      <th>4</th>\n",
       "    </tr>\n",
       "    <tr>\n",
       "      <th>name</th>\n",
       "      <th></th>\n",
       "      <th></th>\n",
       "      <th></th>\n",
       "      <th></th>\n",
       "      <th></th>\n",
       "    </tr>\n",
       "  </thead>\n",
       "  <tbody>\n",
       "    <tr>\n",
       "      <th>000</th>\n",
       "      <td>0</td>\n",
       "      <td>48</td>\n",
       "      <td>25</td>\n",
       "      <td>72</td>\n",
       "      <td>0</td>\n",
       "    </tr>\n",
       "    <tr>\n",
       "      <th>00100</th>\n",
       "      <td>55</td>\n",
       "      <td>69</td>\n",
       "      <td>-1</td>\n",
       "      <td>72</td>\n",
       "      <td>0</td>\n",
       "    </tr>\n",
       "    <tr>\n",
       "      <th>001100</th>\n",
       "      <td>-1</td>\n",
       "      <td>69</td>\n",
       "      <td>0</td>\n",
       "      <td>-1</td>\n",
       "      <td>0</td>\n",
       "    </tr>\n",
       "    <tr>\n",
       "      <th>001101</th>\n",
       "      <td>95</td>\n",
       "      <td>-1</td>\n",
       "      <td>0</td>\n",
       "      <td>72</td>\n",
       "      <td>-1</td>\n",
       "    </tr>\n",
       "    <tr>\n",
       "      <th>001110</th>\n",
       "      <td>95</td>\n",
       "      <td>69</td>\n",
       "      <td>0</td>\n",
       "      <td>72</td>\n",
       "      <td>98</td>\n",
       "    </tr>\n",
       "  </tbody>\n",
       "</table>\n",
       "</div>"
      ],
      "text/plain": [
       "         0   1   2   3   4\n",
       "name                      \n",
       "000      0  48  25  72   0\n",
       "00100   55  69  -1  72   0\n",
       "001100  -1  69   0  -1   0\n",
       "001101  95  -1   0  72  -1\n",
       "001110  95  69   0  72  98"
      ]
     },
     "execution_count": 15,
     "metadata": {},
     "output_type": "execute_result"
    }
   ],
   "source": [
    "cas_tree.character_matrix.head(5)"
   ]
  },
  {
   "cell_type": "code",
   "execution_count": 16,
   "metadata": {},
   "outputs": [
    {
     "data": {
      "text/plain": [
       "(16, 5)"
      ]
     },
     "execution_count": 16,
     "metadata": {},
     "output_type": "execute_result"
    }
   ],
   "source": [
    "cas_tree.n_cell, cas_tree.n_character"
   ]
  },
  {
   "cell_type": "code",
   "execution_count": 17,
   "metadata": {},
   "outputs": [
    {
     "data": {
      "text/plain": [
       "{0: 0.3333333333333333,\n",
       " 95: 0.25,\n",
       " 71: 0.16666666666666666,\n",
       " 55: 0.08333333333333333,\n",
       " 46: 0.08333333333333333,\n",
       " 30: 0.08333333333333333}"
      ]
     },
     "execution_count": 17,
     "metadata": {},
     "output_type": "execute_result"
    }
   ],
   "source": [
    "cas_tree.priors[0]"
   ]
  },
  {
   "cell_type": "code",
   "execution_count": 18,
   "metadata": {},
   "outputs": [],
   "source": [
    "def add_character_meta(tree):\n",
    "    character_matrix = tree.character_matrix\n",
    "\n",
    "    missing_proportion = (character_matrix == -1).sum(axis=0) / character_matrix.shape[0]\n",
    "    uncut_proportion = (character_matrix == 0).sum(axis=0) / character_matrix.shape[0]\n",
    "    n_unique_states = character_matrix.apply(lambda x: len(np.unique(x[(x != 0) & (x != -1)])), axis=0)\n",
    "    character_meta = pd.DataFrame([missing_proportion, uncut_proportion, n_unique_states],\n",
    "                                  index=['missing_prop', 'uncut_prop', 'n_unique_states']).T\n",
    "    tree.character_meta = character_meta\n",
    "\n",
    "\n",
    "add_character_meta(cas_tree)"
   ]
  },
  {
   "cell_type": "code",
   "execution_count": 19,
   "metadata": {},
   "outputs": [],
   "source": [
    "vanilla_greedy = cas.solver.VanillaGreedySolver()\n",
    "vanilla_greedy.solve(cas_tree, collapse_mutationless_edges=True)"
   ]
  },
  {
   "cell_type": "code",
   "execution_count": 20,
   "metadata": {},
   "outputs": [
    {
     "name": "stdout",
     "output_type": "stream",
     "text": [
      "0.391304347826087\n"
     ]
    },
    {
     "data": {
      "text/plain": [
       "0.6148"
      ]
     },
     "execution_count": 20,
     "metadata": {},
     "output_type": "execute_result"
    }
   ],
   "source": [
    "rf, rf_max = cas.critique.compare.robinson_foulds(truth_tree, cas_tree)\n",
    "print(rf/rf_max)\n",
    "triplets = cas.critique.compare.triplets_correct(truth_tree, cas_tree, number_of_trials=500)\n",
    "# print(triplets)\n",
    "np.mean(list(triplets[0].values()))"
   ]
  },
  {
   "cell_type": "code",
   "execution_count": 21,
   "metadata": {
    "scrolled": true
   },
   "outputs": [
    {
     "data": {
      "application/vnd.jupyter.widget-view+json": {
       "model_id": "4adc12b7f3ef46b0b905c5411fd6eb89",
       "version_major": 2,
       "version_minor": 0
      },
      "text/plain": [
       "  0%|          | 0/20 [00:00<?, ?it/s]"
      ]
     },
     "metadata": {},
     "output_type": "display_data"
    },
    {
     "name": "stdout",
     "output_type": "stream",
     "text": [
      "THIS IS A PLACEHOLDER FOR THE REAL CASSETTE FUNCTION. CHANGE THIS!\n",
      "THIS IS A PLACEHOLDER FOR THE REAL CASSETTE FUNCTION. CHANGE THIS!\n",
      "THIS IS A PLACEHOLDER FOR THE REAL CASSETTE FUNCTION. CHANGE THIS!\n",
      "THIS IS A PLACEHOLDER FOR THE REAL CASSETTE FUNCTION. CHANGE THIS!\n",
      "THIS IS A PLACEHOLDER FOR THE REAL CASSETTE FUNCTION. CHANGE THIS!\n",
      "THIS IS A PLACEHOLDER FOR THE REAL CASSETTE FUNCTION. CHANGE THIS!\n",
      "THIS IS A PLACEHOLDER FOR THE REAL CASSETTE FUNCTION. CHANGE THIS!\n",
      "THIS IS A PLACEHOLDER FOR THE REAL CASSETTE FUNCTION. CHANGE THIS!\n",
      "THIS IS A PLACEHOLDER FOR THE REAL CASSETTE FUNCTION. CHANGE THIS!\n",
      "THIS IS A PLACEHOLDER FOR THE REAL CASSETTE FUNCTION. CHANGE THIS!\n",
      "THIS IS A PLACEHOLDER FOR THE REAL CASSETTE FUNCTION. CHANGE THIS!\n",
      "THIS IS A PLACEHOLDER FOR THE REAL CASSETTE FUNCTION. CHANGE THIS!\n",
      "THIS IS A PLACEHOLDER FOR THE REAL CASSETTE FUNCTION. CHANGE THIS!\n",
      "THIS IS A PLACEHOLDER FOR THE REAL CASSETTE FUNCTION. CHANGE THIS!\n",
      "THIS IS A PLACEHOLDER FOR THE REAL CASSETTE FUNCTION. CHANGE THIS!\n",
      "THIS IS A PLACEHOLDER FOR THE REAL CASSETTE FUNCTION. CHANGE THIS!\n",
      "THIS IS A PLACEHOLDER FOR THE REAL CASSETTE FUNCTION. CHANGE THIS!\n",
      "THIS IS A PLACEHOLDER FOR THE REAL CASSETTE FUNCTION. CHANGE THIS!\n",
      "THIS IS A PLACEHOLDER FOR THE REAL CASSETTE FUNCTION. CHANGE THIS!\n",
      "THIS IS A PLACEHOLDER FOR THE REAL CASSETTE FUNCTION. CHANGE THIS!\n"
     ]
    },
    {
     "data": {
      "application/vnd.jupyter.widget-view+json": {
       "model_id": "0a9b86ebe16b496388befb6d316ea780",
       "version_major": 2,
       "version_minor": 0
      },
      "text/plain": [
       "  0%|          | 0/20 [00:00<?, ?it/s]"
      ]
     },
     "metadata": {},
     "output_type": "display_data"
    },
    {
     "name": "stdout",
     "output_type": "stream",
     "text": [
      "THIS IS A PLACEHOLDER FOR THE REAL CASSETTE FUNCTION. CHANGE THIS!\n",
      "THIS IS A PLACEHOLDER FOR THE REAL CASSETTE FUNCTION. CHANGE THIS!\n",
      "lineage simulation failed, skipping this tree\n",
      "THIS IS A PLACEHOLDER FOR THE REAL CASSETTE FUNCTION. CHANGE THIS!\n",
      "THIS IS A PLACEHOLDER FOR THE REAL CASSETTE FUNCTION. CHANGE THIS!\n",
      "THIS IS A PLACEHOLDER FOR THE REAL CASSETTE FUNCTION. CHANGE THIS!\n",
      "THIS IS A PLACEHOLDER FOR THE REAL CASSETTE FUNCTION. CHANGE THIS!\n",
      "THIS IS A PLACEHOLDER FOR THE REAL CASSETTE FUNCTION. CHANGE THIS!\n",
      "THIS IS A PLACEHOLDER FOR THE REAL CASSETTE FUNCTION. CHANGE THIS!\n",
      "THIS IS A PLACEHOLDER FOR THE REAL CASSETTE FUNCTION. CHANGE THIS!\n",
      "THIS IS A PLACEHOLDER FOR THE REAL CASSETTE FUNCTION. CHANGE THIS!\n",
      "THIS IS A PLACEHOLDER FOR THE REAL CASSETTE FUNCTION. CHANGE THIS!\n",
      "THIS IS A PLACEHOLDER FOR THE REAL CASSETTE FUNCTION. CHANGE THIS!\n",
      "THIS IS A PLACEHOLDER FOR THE REAL CASSETTE FUNCTION. CHANGE THIS!\n",
      "THIS IS A PLACEHOLDER FOR THE REAL CASSETTE FUNCTION. CHANGE THIS!\n",
      "THIS IS A PLACEHOLDER FOR THE REAL CASSETTE FUNCTION. CHANGE THIS!\n",
      "THIS IS A PLACEHOLDER FOR THE REAL CASSETTE FUNCTION. CHANGE THIS!\n",
      "THIS IS A PLACEHOLDER FOR THE REAL CASSETTE FUNCTION. CHANGE THIS!\n",
      "THIS IS A PLACEHOLDER FOR THE REAL CASSETTE FUNCTION. CHANGE THIS!\n",
      "THIS IS A PLACEHOLDER FOR THE REAL CASSETTE FUNCTION. CHANGE THIS!\n"
     ]
    },
    {
     "data": {
      "application/vnd.jupyter.widget-view+json": {
       "model_id": "c82328e702f245fc8f0d68c4e60a8d42",
       "version_major": 2,
       "version_minor": 0
      },
      "text/plain": [
       "  0%|          | 0/20 [00:00<?, ?it/s]"
      ]
     },
     "metadata": {},
     "output_type": "display_data"
    },
    {
     "name": "stdout",
     "output_type": "stream",
     "text": [
      "THIS IS A PLACEHOLDER FOR THE REAL CASSETTE FUNCTION. CHANGE THIS!\n",
      "THIS IS A PLACEHOLDER FOR THE REAL CASSETTE FUNCTION. CHANGE THIS!\n",
      "THIS IS A PLACEHOLDER FOR THE REAL CASSETTE FUNCTION. CHANGE THIS!\n",
      "THIS IS A PLACEHOLDER FOR THE REAL CASSETTE FUNCTION. CHANGE THIS!\n",
      "THIS IS A PLACEHOLDER FOR THE REAL CASSETTE FUNCTION. CHANGE THIS!\n",
      "THIS IS A PLACEHOLDER FOR THE REAL CASSETTE FUNCTION. CHANGE THIS!\n",
      "THIS IS A PLACEHOLDER FOR THE REAL CASSETTE FUNCTION. CHANGE THIS!\n",
      "THIS IS A PLACEHOLDER FOR THE REAL CASSETTE FUNCTION. CHANGE THIS!\n",
      "THIS IS A PLACEHOLDER FOR THE REAL CASSETTE FUNCTION. CHANGE THIS!\n",
      "THIS IS A PLACEHOLDER FOR THE REAL CASSETTE FUNCTION. CHANGE THIS!\n",
      "THIS IS A PLACEHOLDER FOR THE REAL CASSETTE FUNCTION. CHANGE THIS!\n",
      "THIS IS A PLACEHOLDER FOR THE REAL CASSETTE FUNCTION. CHANGE THIS!\n",
      "THIS IS A PLACEHOLDER FOR THE REAL CASSETTE FUNCTION. CHANGE THIS!\n",
      "THIS IS A PLACEHOLDER FOR THE REAL CASSETTE FUNCTION. CHANGE THIS!\n",
      "THIS IS A PLACEHOLDER FOR THE REAL CASSETTE FUNCTION. CHANGE THIS!\n",
      "THIS IS A PLACEHOLDER FOR THE REAL CASSETTE FUNCTION. CHANGE THIS!\n",
      "THIS IS A PLACEHOLDER FOR THE REAL CASSETTE FUNCTION. CHANGE THIS!\n",
      "THIS IS A PLACEHOLDER FOR THE REAL CASSETTE FUNCTION. CHANGE THIS!\n",
      "THIS IS A PLACEHOLDER FOR THE REAL CASSETTE FUNCTION. CHANGE THIS!\n",
      "THIS IS A PLACEHOLDER FOR THE REAL CASSETTE FUNCTION. CHANGE THIS!\n"
     ]
    },
    {
     "data": {
      "application/vnd.jupyter.widget-view+json": {
       "model_id": "a4baf3fd65e04a5f91d5406b7f06e45b",
       "version_major": 2,
       "version_minor": 0
      },
      "text/plain": [
       "  0%|          | 0/20 [00:00<?, ?it/s]"
      ]
     },
     "metadata": {},
     "output_type": "display_data"
    },
    {
     "name": "stdout",
     "output_type": "stream",
     "text": [
      "THIS IS A PLACEHOLDER FOR THE REAL CASSETTE FUNCTION. CHANGE THIS!\n",
      "THIS IS A PLACEHOLDER FOR THE REAL CASSETTE FUNCTION. CHANGE THIS!\n",
      "THIS IS A PLACEHOLDER FOR THE REAL CASSETTE FUNCTION. CHANGE THIS!\n",
      "THIS IS A PLACEHOLDER FOR THE REAL CASSETTE FUNCTION. CHANGE THIS!\n",
      "THIS IS A PLACEHOLDER FOR THE REAL CASSETTE FUNCTION. CHANGE THIS!\n",
      "THIS IS A PLACEHOLDER FOR THE REAL CASSETTE FUNCTION. CHANGE THIS!\n",
      "THIS IS A PLACEHOLDER FOR THE REAL CASSETTE FUNCTION. CHANGE THIS!\n",
      "THIS IS A PLACEHOLDER FOR THE REAL CASSETTE FUNCTION. CHANGE THIS!\n",
      "THIS IS A PLACEHOLDER FOR THE REAL CASSETTE FUNCTION. CHANGE THIS!\n",
      "THIS IS A PLACEHOLDER FOR THE REAL CASSETTE FUNCTION. CHANGE THIS!\n",
      "THIS IS A PLACEHOLDER FOR THE REAL CASSETTE FUNCTION. CHANGE THIS!\n",
      "THIS IS A PLACEHOLDER FOR THE REAL CASSETTE FUNCTION. CHANGE THIS!\n",
      "THIS IS A PLACEHOLDER FOR THE REAL CASSETTE FUNCTION. CHANGE THIS!\n",
      "THIS IS A PLACEHOLDER FOR THE REAL CASSETTE FUNCTION. CHANGE THIS!\n",
      "THIS IS A PLACEHOLDER FOR THE REAL CASSETTE FUNCTION. CHANGE THIS!\n",
      "lineage simulation failed, skipping this tree\n",
      "THIS IS A PLACEHOLDER FOR THE REAL CASSETTE FUNCTION. CHANGE THIS!\n",
      "THIS IS A PLACEHOLDER FOR THE REAL CASSETTE FUNCTION. CHANGE THIS!\n",
      "THIS IS A PLACEHOLDER FOR THE REAL CASSETTE FUNCTION. CHANGE THIS!\n",
      "THIS IS A PLACEHOLDER FOR THE REAL CASSETTE FUNCTION. CHANGE THIS!\n"
     ]
    },
    {
     "data": {
      "application/vnd.jupyter.widget-view+json": {
       "model_id": "ac0c80f56b2c46cfaab0eba4ec0a150e",
       "version_major": 2,
       "version_minor": 0
      },
      "text/plain": [
       "  0%|          | 0/20 [00:00<?, ?it/s]"
      ]
     },
     "metadata": {},
     "output_type": "display_data"
    },
    {
     "name": "stdout",
     "output_type": "stream",
     "text": [
      "THIS IS A PLACEHOLDER FOR THE REAL CASSETTE FUNCTION. CHANGE THIS!\n",
      "THIS IS A PLACEHOLDER FOR THE REAL CASSETTE FUNCTION. CHANGE THIS!\n",
      "THIS IS A PLACEHOLDER FOR THE REAL CASSETTE FUNCTION. CHANGE THIS!\n",
      "THIS IS A PLACEHOLDER FOR THE REAL CASSETTE FUNCTION. CHANGE THIS!\n",
      "THIS IS A PLACEHOLDER FOR THE REAL CASSETTE FUNCTION. CHANGE THIS!\n",
      "THIS IS A PLACEHOLDER FOR THE REAL CASSETTE FUNCTION. CHANGE THIS!\n",
      "THIS IS A PLACEHOLDER FOR THE REAL CASSETTE FUNCTION. CHANGE THIS!\n",
      "THIS IS A PLACEHOLDER FOR THE REAL CASSETTE FUNCTION. CHANGE THIS!\n",
      "THIS IS A PLACEHOLDER FOR THE REAL CASSETTE FUNCTION. CHANGE THIS!\n",
      "THIS IS A PLACEHOLDER FOR THE REAL CASSETTE FUNCTION. CHANGE THIS!\n",
      "THIS IS A PLACEHOLDER FOR THE REAL CASSETTE FUNCTION. CHANGE THIS!\n",
      "THIS IS A PLACEHOLDER FOR THE REAL CASSETTE FUNCTION. CHANGE THIS!\n",
      "THIS IS A PLACEHOLDER FOR THE REAL CASSETTE FUNCTION. CHANGE THIS!\n",
      "THIS IS A PLACEHOLDER FOR THE REAL CASSETTE FUNCTION. CHANGE THIS!\n",
      "THIS IS A PLACEHOLDER FOR THE REAL CASSETTE FUNCTION. CHANGE THIS!\n",
      "THIS IS A PLACEHOLDER FOR THE REAL CASSETTE FUNCTION. CHANGE THIS!\n",
      "THIS IS A PLACEHOLDER FOR THE REAL CASSETTE FUNCTION. CHANGE THIS!\n",
      "THIS IS A PLACEHOLDER FOR THE REAL CASSETTE FUNCTION. CHANGE THIS!\n",
      "THIS IS A PLACEHOLDER FOR THE REAL CASSETTE FUNCTION. CHANGE THIS!\n",
      "THIS IS A PLACEHOLDER FOR THE REAL CASSETTE FUNCTION. CHANGE THIS!\n"
     ]
    }
   ],
   "source": [
    "from collections import defaultdict\n",
    "from tqdm.auto import tqdm\n",
    "algorithms = {\"Vanilla Greedy\": cas.solver.VanillaGreedySolver(),\n",
    "              'UPGMA': cas.solver.UPGMASolver(dissimilarity_function=cas.solver.dissimilarity.weighted_hamming_distance),\n",
    "              'NeighborJoining': cas.solver.NeighborJoiningSolver(dissimilarity_function=cas.solver.dissimilarity.weighted_hamming_distance, add_root=True)\n",
    "              }\n",
    "\n",
    "iterations = 20\n",
    "\n",
    "performance_triplets = defaultdict(list)\n",
    "performance_rf = defaultdict(list)\n",
    "imbalances = []\n",
    "cancer_probs = [1e-3, 5e-3, 1e-2, 5e-2, 1e-1]\n",
    "cancer_probs_results = []\n",
    "for cancer_prob in cancer_probs:\n",
    "    algorithm_to_performance_triplets = defaultdict(list)\n",
    "    algorithm_to_performance_rf = defaultdict(list)\n",
    "    for _ in tqdm(range(iterations)):\n",
    "        try:\n",
    "            lineage = simulate_lineage(cassette_size=5, num_init_cells=2, init_death_prob=0.1,\n",
    "                                       init_repr_prob=0.75, cancer_prob=cancer_prob, tree_depth=12)\n",
    "        except Exception:\n",
    "            print('lineage simulation failed, skipping this tree')\n",
    "            continue\n",
    "        drop_missing_data(lineage, 0.2)\n",
    "        tree = graph_to_ete3(lineage)\n",
    "        imbalance = measure_imbalance(tree)\n",
    "        imbalances.append(imbalance)\n",
    "        cancer_probs_results.append(cancer_prob)\n",
    "        tree = copy_attributes(lineage, tree)\n",
    "        matrix = get_character_matrix(tree)\n",
    "        matrix = cass_char_matrix(matrix)\n",
    "        priors = compute_priors(matrix)\n",
    "\n",
    "        ground_truth_tree = cas.data.CassiopeiaTree(character_matrix=matrix, tree=lineage,\n",
    "                                                    missing_state_indicator=-1)\n",
    "        add_character_meta(ground_truth_tree)\n",
    "\n",
    "        np.random.seed(None)\n",
    "\n",
    "        for algorithm_name in algorithms.keys():\n",
    "\n",
    "            algorithm = algorithms[algorithm_name]\n",
    "\n",
    "            reconstructed_tree = cas.data.CassiopeiaTree(character_matrix=matrix,\n",
    "                                                         priors=priors, missing_state_indicator=-1)\n",
    "            add_character_meta(reconstructed_tree)\n",
    "            algorithm.solve(reconstructed_tree)\n",
    "\n",
    "            # ground_truth_tree.collapse_mutationless_edges(infer_ancestral_characters = False)\n",
    "            reconstructed_tree.collapse_mutationless_edges(infer_ancestral_characters=True)\n",
    "\n",
    "            rf, rf_max = cas.critique.compare.robinson_foulds(ground_truth_tree, reconstructed_tree)\n",
    "\n",
    "            triplets = cas.critique.compare.triplets_correct(ground_truth_tree, reconstructed_tree,\n",
    "                                                             number_of_trials=500)\n",
    "\n",
    "            performance_triplets[algorithm_name].append(np.mean(list(triplets[0].values())))\n",
    "            performance_rf[algorithm_name].append(rf / rf_max)\n",
    "#             algorithm_to_performance_triplets[algorithm_name].append(np.mean(list(triplets[0].values())))\n",
    "\n",
    "#             algorithm_to_performance_rf[algorithm_name].append(rf / rf_max)\n",
    "#     for algo in algorithms.keys():\n",
    "#         performance_triplets[algo].append(np.mean(algorithm_to_performance_triplets[algo]))\n",
    "#         performance_rf[algo].append(np.mean(algorithm_to_performance_rf[algo]))"
   ]
  },
  {
   "cell_type": "code",
   "execution_count": 22,
   "metadata": {},
   "outputs": [],
   "source": [
    "import matplotlib.pyplot as plt\n",
    "from sklearn.linear_model import LinearRegression"
   ]
  },
  {
   "cell_type": "code",
   "execution_count": 23,
   "metadata": {
    "scrolled": false
   },
   "outputs": [
    {
     "data": {
      "image/png": "[encoded data removed]",
      "text/plain": [
       "<Figure size 432x288 with 1 Axes>"
      ]
     },
     "metadata": {
      "needs_background": "light"
     },
     "output_type": "display_data"
    },
    {
     "data": {
      "image/png": "[encoded data removed]",
      "text/plain": [
       "<Figure size 432x288 with 1 Axes>"
      ]
     },
     "metadata": {
      "needs_background": "light"
     },
     "output_type": "display_data"
    }
   ],
   "source": [
    "metric_dict = {'Triplets correct':performance_triplets, 'RF distance':performance_rf}\n",
    "imbalances_jitter = imbalances + np.random.normal(scale=0.05, size=len(imbalances))\n",
    "for metric, performance in metric_dict.items():\n",
    "    for algo in algorithms.keys():\n",
    "        plt.scatter(imbalances_jitter, performance[algo], label=algo)\n",
    "        x = np.array(imbalances).reshape(-1, 1)\n",
    "        y = np.array(performance[algo])\n",
    "        model = LinearRegression().fit(x, y)\n",
    "        line_x = np.array(plt.xlim())\n",
    "        line_y = model.intercept_ + model.coef_[0] * line_x\n",
    "        plt.plot(line_x, line_y, '--')\n",
    "\n",
    "    plt.title(metric + \" over different imbalances\")\n",
    "    plt.xlabel('Distance between deepest and shallowest leaf')\n",
    "    plt.ylabel(metric)\n",
    "    plt.legend()\n",
    "    plt.show()"
   ]
  },
  {
   "cell_type": "code",
   "execution_count": 29,
   "metadata": {},
   "outputs": [
    {
     "data": {
      "image/png": "[encoded data removed]",
      "text/plain": [
       "<Figure size 432x288 with 1 Axes>"
      ]
     },
     "metadata": {
      "needs_background": "light"
     },
     "output_type": "display_data"
    }
   ],
   "source": [
    "cancer_probs_jitter = cancer_probs_results + np.random.normal(scale=0.001, size=len(cancer_probs_results))\n",
    "plt.scatter(cancer_probs_jitter, imbalances_jitter)\n",
    "plt.xlabel(\"probability of cancer\")\n",
    "plt.ylabel(\"Distance between deepest and shallowest leaf\")\n",
    "plt.show()"
   ]
  },
  {
   "cell_type": "code",
   "execution_count": 129,
   "metadata": {},
   "outputs": [
    {
     "name": "stdout",
     "output_type": "stream",
     "text": [
      "0\n",
      "0\n",
      "3.8333333333333335\n",
      "3.8333333333333335\n"
     ]
    }
   ],
   "source": [
    "def get_dendrotree(etetree):\n",
    "    from dendropy import Tree as DTree\n",
    "    return DTree.get(data=etetree.write(format=1), schema='newick')\n",
    "\n",
    "\n",
    "import dendropy\n",
    "\n",
    "# return dendropy character matrix\n",
    "# NOT WORKING YET (need to figure out dendropy alphabet)\n",
    "def get_dendro_cm(etetree):\n",
    "    leaves = etetree.get_leaves()\n",
    "    names = [str(leaf.name) for leaf in leaves]\n",
    "    states = [leaf.cassette_state for leaf in leaves]\n",
    "    new_states = []\n",
    "    for state in states:\n",
    "        new_state=[]\n",
    "        for i in range(len(state)):\n",
    "            if state[i] == \"-\":\n",
    "                newchar = chr(0)\n",
    "            else:\n",
    "                newchar = chr(state[i]+1)\n",
    "            new_state.append(newchar)\n",
    "        new_states.append(new_state)\n",
    "    # print(new_states)\n",
    "    cassette_states = [''.join(state) for state in new_states]\n",
    "    # print(cassette_states)\n",
    "    char_dict = dict(zip(names, cassette_states))\n",
    "    alphabet = dendropy.datamodel.charstatemodel.StateAlphabet(''.join(map(chr,range(0,101))))\n",
    "    return dendropy.StandardCharacterMatrix.from_dict(char_dict,default_state_alphabet=alphabet)\n",
    "\n",
    "\n",
    "import sys\n",
    "sys.path.append('../lateral')  # should have lateral installed in parent directory of this file's directory\n",
    "import tree_utils as l_tree_utils\n",
    "\n",
    "\n",
    "def weighbor(est_dists, taxon_namespace, sequence_length):\n",
    "    est_pdm = l_tree_utils.array_to_pdm(est_dists, taxon_namespace)\n",
    "    return l_tree_utils.weighbor(est_pdm, sequence_length), None\n",
    "\n",
    "\n",
    "# turn character matrix into distance estimates under jc69 model.\n",
    "# not working yet due to missing data\n",
    "\n",
    "OVERFLOW_DISTANCE = 10\n",
    "def counts_to_estimates(counts, num_sites):\n",
    "    num_same = np.trace(counts)\n",
    "    diffs_per_site = (num_sites - num_same) / num_sites\n",
    "    if diffs_per_site >= 3/4:  # when most states are different we can just make the distance large\n",
    "        dist = OVERFLOW_DISTANCE\n",
    "    else:\n",
    "        try:\n",
    "            dist = (-3 / 4) * np.log(1 - (4 / 3) * diffs_per_site)\n",
    "        except FloatingPointError:\n",
    "            # no maximum likelihood estimate\n",
    "            dist = OVERFLOW_DISTANCE\n",
    "    \n",
    "    \n",
    "    variance = np.exp(8 * dist / 3) * diffs_per_site * (1 - diffs_per_site) / num_sites\n",
    "    return dist, variance\n",
    "\n",
    "\n",
    "def cm_to_estimates(cm):\n",
    "    labels = [taxon.label for taxon in cm.taxon_namespace]\n",
    "    sequences = [cm[label] for label in labels]\n",
    "    n_species = len(sequences)\n",
    "    n_sites = len(sequences[0])\n",
    "\n",
    "    est_dists = np.zeros((n_species, n_species), dtype=np.float64)\n",
    "    variances = np.zeros((n_species, n_species), dtype=np.float64)\n",
    "    \n",
    "    from ctmc import JC69\n",
    "    for i in range(n_species):\n",
    "        for j in range(n_species):\n",
    "            counts = np.zeros((100, 100), dtype=np.float64)\n",
    "            \n",
    "            # count transitions for non-missing values\n",
    "            for site in range(n_sites):\n",
    "                from_idx = ord(sequences[i][site].symbol) - 1\n",
    "                to_idx = ord(sequences[j][site].symbol) - 1\n",
    "                if from_idx != -1 and to_idx != -1:  # if neither value missing missing\n",
    "                    counts[from_idx, to_idx] += 1\n",
    "                \n",
    "            \n",
    "            # take into account missing values\n",
    "            for site in range(n_sites):\n",
    "                from_idx = ord(sequences[i][site].symbol) - 1\n",
    "                to_idx = ord(sequences[j][site].symbol) - 1\n",
    "                from_missing = from_idx == -1\n",
    "                to_missing = to_idx == -1\n",
    "                if from_missing and not to_missing:\n",
    "                    to_vec = counts[:, to_idx]\n",
    "                    if sum(to_vec != 0):\n",
    "                        props = to_vec/sum(to_vec)\n",
    "                        # print(to_vec)\n",
    "                        to_vec += props\n",
    "                        # print(counts[:, to_idx])\n",
    "                elif to_missing and not from_missing:\n",
    "                    from_vec = counts[from_idx, :]\n",
    "                    if sum(from_vec != 0):\n",
    "                        \n",
    "                        props = from_vec/sum(from_vec)\n",
    "                        # print(from_vec)\n",
    "                        from_vec += props\n",
    "                        # print(counts[from_idx,:])\n",
    "            # print(counts.sum())\n",
    "            \n",
    "            dist, variance = counts_to_estimates(counts, n_sites)\n",
    "            est_dists[i, j] = dist\n",
    "            variances[i, j] = variance\n",
    "    return est_dists, variances\n",
    "\n",
    "\n",
    "def mds(rho, initial_pts, est_dists, variances, hyperboloid, taxon_namespace, sequence_length):\n",
    "    from cythonised.hyperbolic_mds import MDS\n",
    "    mds = MDS(rho=rho, lr=0.005, max_step_size=0.1)\n",
    "    mds.set_points(initial_pts.copy())\n",
    "    converged, failed, checkpoints = \\\n",
    "        mds.fit(est_dists,\n",
    "                variances,\n",
    "                stopping_distance=1e-6,\n",
    "                max_rounds=100,\n",
    "                checkpoint_interval=1000)\n",
    "#         meta = {'converged': converged, 'failed': failed, 'rounds_done': mds.rounds_done}\n",
    "#         meta['constrained'] = _satisfies_constraints(mds.get_points())\n",
    "    pw_dists = hyperboloid.pairwise_distances(mds.get_points())\n",
    "    est_pdm = l_tree_utils.array_to_pdm(pw_dists, taxon_namespace)\n",
    "    return l_tree_utils.weighbor(est_pdm, sequence_length), None  # meta\n",
    "\n",
    "# infer using lateral. takes ete3 tree. not working yet due to cm_to_estimates not working\n",
    "def infer_lateral(tree, min_length=0.05, max_length=0.2, dimension=30, rho=0.5):\n",
    "    generating_tree = get_dendrotree(tree)\n",
    "    for e in generating_tree.edges():\n",
    "        if e.length is not None:\n",
    "            e.length = np.random.rand() * (max_length - min_length) + min_length\n",
    "    cm = get_dendro_cm(tree)\n",
    "\n",
    "    from hyperboloid import Hyperboloid\n",
    "    hyperboloid = Hyperboloid(local_dimension=dimension, rho=0.5)\n",
    "    # from paup import get_best_log_likelihood_for_topology, infer_tree as paup_infer_tree\n",
    "    # generating_tree_ll, _ = get_best_log_likelihood_for_topology(generating_tree, cm)\n",
    "\n",
    "    est_dists, variances = cm_to_estimates(cm)\n",
    "    \n",
    "    #taxon_namespace = [taxon.label for taxon in cm.taxon_namespace]\n",
    "    est_pdm = l_tree_utils.array_to_pdm(est_dists, cm.taxon_namespace)\n",
    "    \n",
    "    sequence_length = len(tree.get_leaves()[0].cassette_state)\n",
    "    init_tree = l_tree_utils.weighbor(est_pdm, sequence_length)\n",
    "    # init_tree = weighbor(est_dists, cm.taxon_namespace, sequence_length)\n",
    "    init_tree.reroot_at_midpoint(update_bipartitions=True, suppress_unifurcations=True)\n",
    "#     import paup\n",
    "#     _, init_tree = paup.get_best_log_likelihood_for_topology(init_tree, cm)\n",
    "    \n",
    "#     import phyml\n",
    "#     optimum_tree, _, _ = phyml.infer_tree(cm)\n",
    "    \n",
    "    tree, meta = weighbor(est_dists, cm.taxon_namespace, sequence_length)\n",
    "    \n",
    "    print(l_tree_utils.robinson_foulds(tree, init_tree))\n",
    "    \n",
    "    # rates = l_tree_utils.counts_to_rates(counts)\n",
    "    \n",
    "    ZERO_EDGE_LENGTH = 0.0001\n",
    "    for e in init_tree.edges():\n",
    "        if e.length is not None:\n",
    "            if e.length < ZERO_EDGE_LENGTH:\n",
    "                e.length = ZERO_EDGE_LENGTH\n",
    "\n",
    "    \n",
    "    vectors = hyperboloid.embed_tree(init_tree)\n",
    "    initial_pts = np.array([vectors[init_tree.find_node_for_taxon(taxon)] for taxon in cm.taxon_namespace])\n",
    "    \n",
    "    #prevent divide-by-zero errors\n",
    "    est_dists += 0.001\n",
    "    variances += 0.001\n",
    "    \n",
    "    hyperbolic_tree, _ = mds(rho, initial_pts, est_dists, variances, hyperboloid, cm.taxon_namespace, sequence_length)\n",
    "    \n",
    "    print(l_tree_utils.robinson_foulds(tree, hyperbolic_tree)) # why 0?\n",
    "    from dendropy.calculate import treemeasure\n",
    "    print(treemeasure.B1(tree))\n",
    "    print(treemeasure.B1(hyperbolic_tree))\n",
    "    # why are the results the same??? did they infer the same tree??\n",
    "    \n",
    "infer_lateral(tree)\n",
    "\n"
   ]
  }
 ],
 "metadata": {
  "kernelspec": {
   "display_name": "Python 3",
   "language": "python",
   "name": "python3"
  },
  "language_info": {
   "codemirror_mode": {
    "name": "ipython",
    "version": 3
   },
   "file_extension": ".py",
   "mimetype": "text/x-python",
   "name": "python",
   "nbconvert_exporter": "python",
   "pygments_lexer": "ipython3",
   "version": "3.8.10"
  }
 },
 "nbformat": 4,
 "nbformat_minor": 4
}
